{
 "cells": [
  {
   "cell_type": "code",
   "execution_count": 9,
   "id": "d5aac87f",
   "metadata": {},
   "outputs": [],
   "source": [
    "import numpy as np\n",
    "import matplotlib.pyplot as plt\n",
    "import pandas as pd\n",
    "import scipy.optimize as opt"
   ]
  },
  {
   "cell_type": "markdown",
   "id": "9d8842cc",
   "metadata": {},
   "source": [
    "# Data Loading and Analysis"
   ]
  },
  {
   "cell_type": "code",
   "execution_count": 10,
   "id": "ff17c342",
   "metadata": {},
   "outputs": [],
   "source": [
    "yogurt_df = pd.read_csv(\"../datasets/Yogurt100N.csv\")"
   ]
  },
  {
   "cell_type": "code",
   "execution_count": 11,
   "id": "5c8b238b",
   "metadata": {},
   "outputs": [
    {
     "data": {
      "text/html": [
       "<div>\n",
       "<style scoped>\n",
       "    .dataframe tbody tr th:only-of-type {\n",
       "        vertical-align: middle;\n",
       "    }\n",
       "\n",
       "    .dataframe tbody tr th {\n",
       "        vertical-align: top;\n",
       "    }\n",
       "\n",
       "    .dataframe thead th {\n",
       "        text-align: right;\n",
       "    }\n",
       "</style>\n",
       "<table border=\"1\" class=\"dataframe\">\n",
       "  <thead>\n",
       "    <tr style=\"text-align: right;\">\n",
       "      <th></th>\n",
       "      <th>Pan I.D.</th>\n",
       "      <th>Expend $</th>\n",
       "      <th>Income</th>\n",
       "      <th>HH Size</th>\n",
       "      <th>IPT</th>\n",
       "      <th>Quantity</th>\n",
       "      <th>Brand 1</th>\n",
       "      <th>Brand  2</th>\n",
       "      <th>Brand 3</th>\n",
       "      <th>Brand 4</th>\n",
       "      <th>Feature 1</th>\n",
       "      <th>Feature 2</th>\n",
       "      <th>Feature 3</th>\n",
       "      <th>Feature 4</th>\n",
       "      <th>Price 1</th>\n",
       "      <th>Price 2</th>\n",
       "      <th>Price 3</th>\n",
       "      <th>Price 4</th>\n",
       "      <th>PanelistFirstObs</th>\n",
       "    </tr>\n",
       "  </thead>\n",
       "  <tbody>\n",
       "    <tr>\n",
       "      <th>count</th>\n",
       "      <td>2430.000000</td>\n",
       "      <td>2430.000000</td>\n",
       "      <td>2430.000000</td>\n",
       "      <td>2430.000000</td>\n",
       "      <td>2430.000000</td>\n",
       "      <td>2430.000000</td>\n",
       "      <td>2430.000000</td>\n",
       "      <td>2430.000000</td>\n",
       "      <td>2430.000000</td>\n",
       "      <td>2430.000000</td>\n",
       "      <td>2430.000000</td>\n",
       "      <td>2430.000000</td>\n",
       "      <td>2430.000000</td>\n",
       "      <td>2430.000000</td>\n",
       "      <td>2430.000000</td>\n",
       "      <td>2430.000000</td>\n",
       "      <td>2430.000000</td>\n",
       "      <td>2430.000000</td>\n",
       "      <td>2430.000000</td>\n",
       "    </tr>\n",
       "    <tr>\n",
       "      <th>mean</th>\n",
       "      <td>48.607819</td>\n",
       "      <td>36.476062</td>\n",
       "      <td>8.720988</td>\n",
       "      <td>2.802058</td>\n",
       "      <td>4.533745</td>\n",
       "      <td>2.585597</td>\n",
       "      <td>0.341975</td>\n",
       "      <td>0.401235</td>\n",
       "      <td>0.029218</td>\n",
       "      <td>0.227572</td>\n",
       "      <td>0.055556</td>\n",
       "      <td>0.039506</td>\n",
       "      <td>0.037449</td>\n",
       "      <td>0.037449</td>\n",
       "      <td>0.106248</td>\n",
       "      <td>0.081532</td>\n",
       "      <td>0.053622</td>\n",
       "      <td>0.079507</td>\n",
       "      <td>0.041152</td>\n",
       "    </tr>\n",
       "    <tr>\n",
       "      <th>std</th>\n",
       "      <td>27.858116</td>\n",
       "      <td>31.673291</td>\n",
       "      <td>3.800654</td>\n",
       "      <td>1.173291</td>\n",
       "      <td>14.930892</td>\n",
       "      <td>1.869089</td>\n",
       "      <td>0.474469</td>\n",
       "      <td>0.490249</td>\n",
       "      <td>0.168452</td>\n",
       "      <td>0.419351</td>\n",
       "      <td>0.229109</td>\n",
       "      <td>0.194836</td>\n",
       "      <td>0.189897</td>\n",
       "      <td>0.189897</td>\n",
       "      <td>0.020587</td>\n",
       "      <td>0.011047</td>\n",
       "      <td>0.008054</td>\n",
       "      <td>0.007714</td>\n",
       "      <td>0.198683</td>\n",
       "    </tr>\n",
       "    <tr>\n",
       "      <th>min</th>\n",
       "      <td>1.000000</td>\n",
       "      <td>-0.100000</td>\n",
       "      <td>1.000000</td>\n",
       "      <td>1.000000</td>\n",
       "      <td>1.000000</td>\n",
       "      <td>1.000000</td>\n",
       "      <td>0.000000</td>\n",
       "      <td>0.000000</td>\n",
       "      <td>0.000000</td>\n",
       "      <td>0.000000</td>\n",
       "      <td>0.000000</td>\n",
       "      <td>0.000000</td>\n",
       "      <td>0.000000</td>\n",
       "      <td>0.000000</td>\n",
       "      <td>-0.012000</td>\n",
       "      <td>0.000000</td>\n",
       "      <td>0.025000</td>\n",
       "      <td>0.004000</td>\n",
       "      <td>0.000000</td>\n",
       "    </tr>\n",
       "    <tr>\n",
       "      <th>25%</th>\n",
       "      <td>23.000000</td>\n",
       "      <td>12.092500</td>\n",
       "      <td>6.000000</td>\n",
       "      <td>2.000000</td>\n",
       "      <td>1.000000</td>\n",
       "      <td>1.000000</td>\n",
       "      <td>0.000000</td>\n",
       "      <td>0.000000</td>\n",
       "      <td>0.000000</td>\n",
       "      <td>0.000000</td>\n",
       "      <td>0.000000</td>\n",
       "      <td>0.000000</td>\n",
       "      <td>0.000000</td>\n",
       "      <td>0.000000</td>\n",
       "      <td>0.103000</td>\n",
       "      <td>0.081000</td>\n",
       "      <td>0.050000</td>\n",
       "      <td>0.079000</td>\n",
       "      <td>0.000000</td>\n",
       "    </tr>\n",
       "    <tr>\n",
       "      <th>50%</th>\n",
       "      <td>47.000000</td>\n",
       "      <td>27.485001</td>\n",
       "      <td>9.000000</td>\n",
       "      <td>3.000000</td>\n",
       "      <td>3.000000</td>\n",
       "      <td>2.000000</td>\n",
       "      <td>0.000000</td>\n",
       "      <td>0.000000</td>\n",
       "      <td>0.000000</td>\n",
       "      <td>0.000000</td>\n",
       "      <td>0.000000</td>\n",
       "      <td>0.000000</td>\n",
       "      <td>0.000000</td>\n",
       "      <td>0.000000</td>\n",
       "      <td>0.108000</td>\n",
       "      <td>0.086000</td>\n",
       "      <td>0.054000</td>\n",
       "      <td>0.079000</td>\n",
       "      <td>0.000000</td>\n",
       "    </tr>\n",
       "    <tr>\n",
       "      <th>75%</th>\n",
       "      <td>73.000000</td>\n",
       "      <td>51.712500</td>\n",
       "      <td>12.000000</td>\n",
       "      <td>4.000000</td>\n",
       "      <td>5.000000</td>\n",
       "      <td>3.000000</td>\n",
       "      <td>1.000000</td>\n",
       "      <td>1.000000</td>\n",
       "      <td>0.000000</td>\n",
       "      <td>0.000000</td>\n",
       "      <td>0.000000</td>\n",
       "      <td>0.000000</td>\n",
       "      <td>0.000000</td>\n",
       "      <td>0.000000</td>\n",
       "      <td>0.115000</td>\n",
       "      <td>0.086000</td>\n",
       "      <td>0.061000</td>\n",
       "      <td>0.086000</td>\n",
       "      <td>0.000000</td>\n",
       "    </tr>\n",
       "    <tr>\n",
       "      <th>max</th>\n",
       "      <td>100.000000</td>\n",
       "      <td>286.720000</td>\n",
       "      <td>14.000000</td>\n",
       "      <td>6.000000</td>\n",
       "      <td>358.000000</td>\n",
       "      <td>14.000000</td>\n",
       "      <td>1.000000</td>\n",
       "      <td>1.000000</td>\n",
       "      <td>1.000000</td>\n",
       "      <td>1.000000</td>\n",
       "      <td>1.000000</td>\n",
       "      <td>1.000000</td>\n",
       "      <td>1.000000</td>\n",
       "      <td>1.000000</td>\n",
       "      <td>0.193000</td>\n",
       "      <td>0.111000</td>\n",
       "      <td>0.086000</td>\n",
       "      <td>0.104000</td>\n",
       "      <td>1.000000</td>\n",
       "    </tr>\n",
       "  </tbody>\n",
       "</table>\n",
       "</div>"
      ],
      "text/plain": [
       "          Pan I.D.     Expend $       Income      HH Size          IPT  \\\n",
       "count  2430.000000  2430.000000  2430.000000  2430.000000  2430.000000   \n",
       "mean     48.607819    36.476062     8.720988     2.802058     4.533745   \n",
       "std      27.858116    31.673291     3.800654     1.173291    14.930892   \n",
       "min       1.000000    -0.100000     1.000000     1.000000     1.000000   \n",
       "25%      23.000000    12.092500     6.000000     2.000000     1.000000   \n",
       "50%      47.000000    27.485001     9.000000     3.000000     3.000000   \n",
       "75%      73.000000    51.712500    12.000000     4.000000     5.000000   \n",
       "max     100.000000   286.720000    14.000000     6.000000   358.000000   \n",
       "\n",
       "          Quantity      Brand 1     Brand  2      Brand 3      Brand 4  \\\n",
       "count  2430.000000  2430.000000  2430.000000  2430.000000  2430.000000   \n",
       "mean      2.585597     0.341975     0.401235     0.029218     0.227572   \n",
       "std       1.869089     0.474469     0.490249     0.168452     0.419351   \n",
       "min       1.000000     0.000000     0.000000     0.000000     0.000000   \n",
       "25%       1.000000     0.000000     0.000000     0.000000     0.000000   \n",
       "50%       2.000000     0.000000     0.000000     0.000000     0.000000   \n",
       "75%       3.000000     1.000000     1.000000     0.000000     0.000000   \n",
       "max      14.000000     1.000000     1.000000     1.000000     1.000000   \n",
       "\n",
       "         Feature 1    Feature 2    Feature 3    Feature 4      Price 1  \\\n",
       "count  2430.000000  2430.000000  2430.000000  2430.000000  2430.000000   \n",
       "mean      0.055556     0.039506     0.037449     0.037449     0.106248   \n",
       "std       0.229109     0.194836     0.189897     0.189897     0.020587   \n",
       "min       0.000000     0.000000     0.000000     0.000000    -0.012000   \n",
       "25%       0.000000     0.000000     0.000000     0.000000     0.103000   \n",
       "50%       0.000000     0.000000     0.000000     0.000000     0.108000   \n",
       "75%       0.000000     0.000000     0.000000     0.000000     0.115000   \n",
       "max       1.000000     1.000000     1.000000     1.000000     0.193000   \n",
       "\n",
       "           Price 2      Price 3      Price 4  PanelistFirstObs  \n",
       "count  2430.000000  2430.000000  2430.000000       2430.000000  \n",
       "mean      0.081532     0.053622     0.079507          0.041152  \n",
       "std       0.011047     0.008054     0.007714          0.198683  \n",
       "min       0.000000     0.025000     0.004000          0.000000  \n",
       "25%       0.081000     0.050000     0.079000          0.000000  \n",
       "50%       0.086000     0.054000     0.079000          0.000000  \n",
       "75%       0.086000     0.061000     0.086000          0.000000  \n",
       "max       0.111000     0.086000     0.104000          1.000000  "
      ]
     },
     "execution_count": 11,
     "metadata": {},
     "output_type": "execute_result"
    }
   ],
   "source": [
    "yogurt_df.describe()"
   ]
  },
  {
   "cell_type": "code",
   "execution_count": 12,
   "id": "2161336e",
   "metadata": {},
   "outputs": [
    {
     "data": {
      "text/html": [
       "<div>\n",
       "<style scoped>\n",
       "    .dataframe tbody tr th:only-of-type {\n",
       "        vertical-align: middle;\n",
       "    }\n",
       "\n",
       "    .dataframe tbody tr th {\n",
       "        vertical-align: top;\n",
       "    }\n",
       "\n",
       "    .dataframe thead th {\n",
       "        text-align: right;\n",
       "    }\n",
       "</style>\n",
       "<table border=\"1\" class=\"dataframe\">\n",
       "  <thead>\n",
       "    <tr style=\"text-align: right;\">\n",
       "      <th></th>\n",
       "      <th>Pan I.D.</th>\n",
       "      <th>Expend $</th>\n",
       "      <th>Income</th>\n",
       "      <th>HH Size</th>\n",
       "      <th>IPT</th>\n",
       "      <th>Quantity</th>\n",
       "      <th>Brand 1</th>\n",
       "      <th>Brand  2</th>\n",
       "      <th>Brand 3</th>\n",
       "      <th>Brand 4</th>\n",
       "      <th>Feature 1</th>\n",
       "      <th>Feature 2</th>\n",
       "      <th>Feature 3</th>\n",
       "      <th>Feature 4</th>\n",
       "      <th>Price 1</th>\n",
       "      <th>Price 2</th>\n",
       "      <th>Price 3</th>\n",
       "      <th>Price 4</th>\n",
       "      <th>PanelistFirstObs</th>\n",
       "    </tr>\n",
       "  </thead>\n",
       "  <tbody>\n",
       "    <tr>\n",
       "      <th>0</th>\n",
       "      <td>1</td>\n",
       "      <td>40.900002</td>\n",
       "      <td>9</td>\n",
       "      <td>2</td>\n",
       "      <td>5</td>\n",
       "      <td>2</td>\n",
       "      <td>0</td>\n",
       "      <td>0</td>\n",
       "      <td>0</td>\n",
       "      <td>1</td>\n",
       "      <td>0</td>\n",
       "      <td>0</td>\n",
       "      <td>0</td>\n",
       "      <td>0</td>\n",
       "      <td>0.108</td>\n",
       "      <td>0.081</td>\n",
       "      <td>0.061</td>\n",
       "      <td>0.079</td>\n",
       "      <td>1</td>\n",
       "    </tr>\n",
       "    <tr>\n",
       "      <th>1</th>\n",
       "      <td>1</td>\n",
       "      <td>16.809999</td>\n",
       "      <td>9</td>\n",
       "      <td>2</td>\n",
       "      <td>5</td>\n",
       "      <td>2</td>\n",
       "      <td>0</td>\n",
       "      <td>1</td>\n",
       "      <td>0</td>\n",
       "      <td>0</td>\n",
       "      <td>0</td>\n",
       "      <td>0</td>\n",
       "      <td>0</td>\n",
       "      <td>0</td>\n",
       "      <td>0.108</td>\n",
       "      <td>0.098</td>\n",
       "      <td>0.064</td>\n",
       "      <td>0.075</td>\n",
       "      <td>0</td>\n",
       "    </tr>\n",
       "    <tr>\n",
       "      <th>2</th>\n",
       "      <td>1</td>\n",
       "      <td>4.060000</td>\n",
       "      <td>9</td>\n",
       "      <td>2</td>\n",
       "      <td>1</td>\n",
       "      <td>2</td>\n",
       "      <td>0</td>\n",
       "      <td>1</td>\n",
       "      <td>0</td>\n",
       "      <td>0</td>\n",
       "      <td>0</td>\n",
       "      <td>0</td>\n",
       "      <td>0</td>\n",
       "      <td>0</td>\n",
       "      <td>0.108</td>\n",
       "      <td>0.098</td>\n",
       "      <td>0.061</td>\n",
       "      <td>0.086</td>\n",
       "      <td>0</td>\n",
       "    </tr>\n",
       "    <tr>\n",
       "      <th>3</th>\n",
       "      <td>1</td>\n",
       "      <td>34.459999</td>\n",
       "      <td>9</td>\n",
       "      <td>2</td>\n",
       "      <td>4</td>\n",
       "      <td>2</td>\n",
       "      <td>0</td>\n",
       "      <td>1</td>\n",
       "      <td>0</td>\n",
       "      <td>0</td>\n",
       "      <td>0</td>\n",
       "      <td>0</td>\n",
       "      <td>0</td>\n",
       "      <td>0</td>\n",
       "      <td>0.108</td>\n",
       "      <td>0.098</td>\n",
       "      <td>0.061</td>\n",
       "      <td>0.086</td>\n",
       "      <td>0</td>\n",
       "    </tr>\n",
       "    <tr>\n",
       "      <th>4</th>\n",
       "      <td>1</td>\n",
       "      <td>8.390000</td>\n",
       "      <td>9</td>\n",
       "      <td>2</td>\n",
       "      <td>7</td>\n",
       "      <td>2</td>\n",
       "      <td>0</td>\n",
       "      <td>1</td>\n",
       "      <td>0</td>\n",
       "      <td>0</td>\n",
       "      <td>0</td>\n",
       "      <td>0</td>\n",
       "      <td>0</td>\n",
       "      <td>0</td>\n",
       "      <td>0.125</td>\n",
       "      <td>0.098</td>\n",
       "      <td>0.049</td>\n",
       "      <td>0.079</td>\n",
       "      <td>0</td>\n",
       "    </tr>\n",
       "  </tbody>\n",
       "</table>\n",
       "</div>"
      ],
      "text/plain": [
       "   Pan I.D.   Expend $  Income  HH Size  IPT  Quantity  Brand 1  Brand  2  \\\n",
       "0         1  40.900002       9        2    5         2        0         0   \n",
       "1         1  16.809999       9        2    5         2        0         1   \n",
       "2         1   4.060000       9        2    1         2        0         1   \n",
       "3         1  34.459999       9        2    4         2        0         1   \n",
       "4         1   8.390000       9        2    7         2        0         1   \n",
       "\n",
       "   Brand 3  Brand 4  Feature 1  Feature 2  Feature 3  Feature 4  Price 1  \\\n",
       "0        0        1          0          0          0          0    0.108   \n",
       "1        0        0          0          0          0          0    0.108   \n",
       "2        0        0          0          0          0          0    0.108   \n",
       "3        0        0          0          0          0          0    0.108   \n",
       "4        0        0          0          0          0          0    0.125   \n",
       "\n",
       "   Price 2  Price 3  Price 4  PanelistFirstObs  \n",
       "0    0.081    0.061    0.079                 1  \n",
       "1    0.098    0.064    0.075                 0  \n",
       "2    0.098    0.061    0.086                 0  \n",
       "3    0.098    0.061    0.086                 0  \n",
       "4    0.098    0.049    0.079                 0  "
      ]
     },
     "execution_count": 12,
     "metadata": {},
     "output_type": "execute_result"
    }
   ],
   "source": [
    "yogurt_df.head()"
   ]
  },
  {
   "cell_type": "markdown",
   "id": "bfdebbe9",
   "metadata": {},
   "source": [
    "We can assume that Pan I.D is a customer identification number. Let's look at the number of records per customer"
   ]
  },
  {
   "cell_type": "code",
   "execution_count": 13,
   "id": "7cc195d8",
   "metadata": {},
   "outputs": [],
   "source": [
    "pan_id_df = yogurt_df.groupby('Pan I.D.')"
   ]
  },
  {
   "cell_type": "code",
   "execution_count": 14,
   "id": "682b87a9",
   "metadata": {},
   "outputs": [],
   "source": [
    "pan_id_df = pan_id_df['Pan I.D.'].count()"
   ]
  },
  {
   "cell_type": "code",
   "execution_count": 15,
   "id": "33528748",
   "metadata": {},
   "outputs": [
    {
     "data": {
      "image/png": "[encoded data removed]",
      "text/plain": [
       "<Figure size 640x480 with 1 Axes>"
      ]
     },
     "metadata": {},
     "output_type": "display_data"
    }
   ],
   "source": [
    "plt.hist(pan_id_df, bins=100)\n",
    "plt.xlabel(\"Number of records per customer\")\n",
    "plt.ylabel(\"Number of customers\")\n",
    "plt.title('Graph representing the number of records per customer')\n",
    "plt.show()"
   ]
  },
  {
   "cell_type": "code",
   "execution_count": 16,
   "id": "873e6361",
   "metadata": {},
   "outputs": [
    {
     "data": {
      "text/plain": [
       "count    100.000000\n",
       "mean      24.300000\n",
       "std       29.455839\n",
       "min        4.000000\n",
       "25%        9.000000\n",
       "50%       15.000000\n",
       "75%       25.000000\n",
       "max      185.000000\n",
       "Name: Pan I.D., dtype: float64"
      ]
     },
     "execution_count": 16,
     "metadata": {},
     "output_type": "execute_result"
    }
   ],
   "source": [
    "pan_id_df.describe()"
   ]
  },
  {
   "cell_type": "markdown",
   "id": "7061cde4",
   "metadata": {},
   "source": [
    "Most customers have fewer than 25 records with the average being 24 and 75th percentile being 25. The customer with the most records is 185. "
   ]
  },
  {
   "cell_type": "markdown",
   "id": "55fdec93",
   "metadata": {},
   "source": [
    "# Model"
   ]
  },
  {
   "cell_type": "code",
   "execution_count": 17,
   "id": "5583302d",
   "metadata": {},
   "outputs": [],
   "source": [
    "\"\"\"\n",
    "fun callable\n",
    "The objective function to be minimized.\n",
    "\n",
    "fun(x, *args) -> float\n",
    "\n",
    "where x is a 1-D array with shape (n,) and args is a tuple of the fixed parameters needed to completely specify the function.\n",
    "\"\"\"\n",
    "def optimization_func(x):\n",
    "    a1, a2, a3, bf, bp = x\n",
    "    v1 = np.exp(a1 + bf*yogurt_df['Feature 1'] + bp*yogurt_df['Price 1'])\n",
    "    v2 = np.exp(a2 + bf*yogurt_df['Feature 2'] + bp*yogurt_df['Price 2'])\n",
    "    v3 = np.exp(a3 + bf*yogurt_df['Feature 3'] + bp*yogurt_df['Price 3'])\n",
    "    v4 = np.exp(0 + bf*yogurt_df['Feature 4'] + bp*yogurt_df['Price 4'])\n",
    "    loss = (v1*yogurt_df['Brand 1'] + v2*yogurt_df['Brand  2'] + v3*yogurt_df['Brand 3'] + v4*yogurt_df['Brand 4'])/(v1 + v2 + v3 + v4)\n",
    "    ll = -np.sum(np.log(loss))\n",
    "    \n",
    "    return ll\n"
   ]
  },
  {
   "cell_type": "code",
   "execution_count": 18,
   "id": "bdb2c75e",
   "metadata": {},
   "outputs": [],
   "source": [
    "a1, a2, a3, bf, bp = 0, 0, 0, 0, 0\n",
    "x_init = np.array([a1, a2, a3, bf, bp])\n",
    "output = opt.minimize(optimization_func, x_init, options={'gtol': 0.001})"
   ]
  },
  {
   "cell_type": "code",
   "execution_count": 19,
   "id": "d5c0fca9",
   "metadata": {},
   "outputs": [
    {
     "data": {
      "text/plain": [
       "array([  1.3877592 ,   0.64350537,  -3.08612086,   0.48741149,\n",
       "       -37.05813213])"
      ]
     },
     "execution_count": 19,
     "metadata": {},
     "output_type": "execute_result"
    }
   ],
   "source": [
    "output.x"
   ]
  },
  {
   "cell_type": "markdown",
   "id": "6a5752d6",
   "metadata": {},
   "source": [
    "The parameter estimates from the optimizer are\\\n",
    "a1 = 1.38775208\\\n",
    "a2 = 0.64350485\\\n",
    "a3 = -3.08611349\\\n",
    "bf = 0.48741416\\\n",
    "bp = -37.05787954"
   ]
  },
  {
   "cell_type": "code",
   "execution_count": 20,
   "id": "97e104a5",
   "metadata": {},
   "outputs": [],
   "source": [
    "max_log_likelihood = -output.fun"
   ]
  },
  {
   "cell_type": "code",
   "execution_count": 21,
   "id": "2d13c4b1",
   "metadata": {},
   "outputs": [
    {
     "data": {
      "text/plain": [
       "-2658.5566975085767"
      ]
     },
     "execution_count": 21,
     "metadata": {},
     "output_type": "execute_result"
    }
   ],
   "source": [
    "max_log_likelihood"
   ]
  },
  {
   "cell_type": "markdown",
   "id": "b541868f",
   "metadata": {},
   "source": [
    "Hence, the logit model for each of the brands are:\n",
    "Denominator = e^(1.39 + 0.49 * Feature 1 - 37 * Price 1) + e^(0.64 + 0.49 * Feature 2 - 37 * Price 2) + e^(-3.1 + 0.49 * Feature 3 - 37 * Price 3) + e^(0.49 * Feature 4 - 37 * Price 4)\n",
    "\n",
    "p(brand 1) = e^(1.39 + 0.49 * Feature 1 - 37 * Price 1) / Denominator \\\n",
    "p(brand 2) = e^(0.64 + 0.49 * Feature 2 - 37 * Price 2) / Denominator \\\n",
    "p(brand 3) = e^(-3.1 + 0.49 * Feature 3 - 37 * Price 3) / Denominator \\\n",
    "p(brand 4) = e^(0.49 * Feature 4 - 37 * Price 4) / Denominator"
   ]
  },
  {
   "cell_type": "markdown",
   "id": "f4b4bab0",
   "metadata": {},
   "source": [
    "### The optimizer provides the Hessian inverse"
   ]
  },
  {
   "cell_type": "code",
   "execution_count": 22,
   "id": "57e456d1",
   "metadata": {},
   "outputs": [
    {
     "data": {
      "text/plain": [
       "array([[ 7.29538309e-03,  2.09754074e-03, -2.59629645e-03,\n",
       "        -1.67957684e-03, -1.52208240e-01],\n",
       "       [ 2.09754074e-03,  2.92547073e-03,  1.46781039e-03,\n",
       "        -1.77980197e-04, -1.13779275e-02],\n",
       "       [-2.59629645e-03,  1.46781039e-03,  2.01715213e-02,\n",
       "         5.53512291e-04,  1.54378336e-01],\n",
       "       [-1.67957684e-03, -1.77980197e-04,  5.53512291e-04,\n",
       "         1.17274540e-02,  5.32376536e-02],\n",
       "       [-1.52208240e-01, -1.13779275e-02,  1.54378336e-01,\n",
       "         5.32376536e-02,  5.40918239e+00]])"
      ]
     },
     "execution_count": 22,
     "metadata": {},
     "output_type": "execute_result"
    }
   ],
   "source": [
    "output.hess_inv"
   ]
  },
  {
   "cell_type": "code",
   "execution_count": 23,
   "id": "c581cc4b",
   "metadata": {},
   "outputs": [],
   "source": [
    "# Errors are the square root of the diagonal elements\n",
    "hess = output.hess_inv\n",
    "diags = np.array([hess[0, 0], hess[1, 1], hess[2, 2], hess[3, 3], hess[4, 4]])\n",
    "errors = np.sqrt(diags)"
   ]
  },
  {
   "cell_type": "code",
   "execution_count": 24,
   "id": "2bf2cf46",
   "metadata": {},
   "outputs": [
    {
     "data": {
      "text/plain": [
       "array([0.08541301, 0.05408762, 0.14202648, 0.10829337, 2.3257649 ])"
      ]
     },
     "execution_count": 24,
     "metadata": {},
     "output_type": "execute_result"
    }
   ],
   "source": [
    "errors"
   ]
  },
  {
   "cell_type": "code",
   "execution_count": 20,
   "id": "46266508",
   "metadata": {},
   "outputs": [
    {
     "name": "stdout",
     "output_type": "stream",
     "text": [
      "VCV(MLE) =  [[ 9.38864360e-03 -1.00965547e-02 -3.84964776e-03  1.04296791e-04\n",
      "  -9.70655311e-03]\n",
      " [-1.00965547e-02  1.14645403e-02 -4.32675371e-03  8.71561797e-05\n",
      "  -1.10090007e-02]\n",
      " [-3.84964776e-03 -4.32675371e-03  1.71015680e-02  1.15869657e-03\n",
      "  -3.69310769e-03]\n",
      " [-1.04296791e-04  8.71561797e-05  1.15869657e-03  1.12336299e-02\n",
      "   3.48053292e-05]\n",
      " [ 9.70655311e-03 -1.10090007e-02 -3.69310769e-03  3.48053292e-05\n",
      "   1.19840644e-02]]\n"
     ]
    }
   ],
   "source": [
    "OffDiagNeg = np.array([[1, -1, -1, -1, -1], [-1, 1, -1, -1, -1],\n",
    "                       [-1, -1, 1, -1, -1],[1, -1, -1, 1, -1],[1, -1, -1, -1, 1]])\n",
    "vcv_mle = output.hess_inv * OffDiagNeg\n",
    "print('VCV(MLE) = ', vcv_mle)"
   ]
  },
  {
   "cell_type": "code",
   "execution_count": null,
   "id": "88d63083",
   "metadata": {},
   "outputs": [],
   "source": []
  }
 ],
 "metadata": {
  "kernelspec": {
   "display_name": "Python 3 (ipykernel)",
   "language": "python",
   "name": "python3"
  },
  "language_info": {
   "codemirror_mode": {
    "name": "ipython",
    "version": 3
   },
   "file_extension": ".py",
   "mimetype": "text/x-python",
   "name": "python",
   "nbconvert_exporter": "python",
   "pygments_lexer": "ipython3",
   "version": "3.9.13"
  }
 },
 "nbformat": 4,
 "nbformat_minor": 5
}
