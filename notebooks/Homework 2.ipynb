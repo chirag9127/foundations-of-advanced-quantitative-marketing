{
 "cells": [
  {
   "cell_type": "code",
   "execution_count": 1,
   "id": "b51a5ff2",
   "metadata": {},
   "outputs": [],
   "source": [
    "import numpy as np\n",
    "import matplotlib.pyplot as plt\n",
    "import pandas as pd\n",
    "import scipy.optimize as opt"
   ]
  },
  {
   "cell_type": "markdown",
   "id": "28646ab4",
   "metadata": {},
   "source": [
    "# Data Loading and Analysis"
   ]
  },
  {
   "cell_type": "code",
   "execution_count": 2,
   "id": "3621f813",
   "metadata": {},
   "outputs": [],
   "source": [
    "yogurt_df = pd.read_csv(\"../datasets/Yogurt100N.csv\")"
   ]
  },
  {
   "cell_type": "code",
   "execution_count": 3,
   "id": "fcc9233b",
   "metadata": {},
   "outputs": [
    {
     "data": {
      "text/html": [
       "<div>\n",
       "<style scoped>\n",
       "    .dataframe tbody tr th:only-of-type {\n",
       "        vertical-align: middle;\n",
       "    }\n",
       "\n",
       "    .dataframe tbody tr th {\n",
       "        vertical-align: top;\n",
       "    }\n",
       "\n",
       "    .dataframe thead th {\n",
       "        text-align: right;\n",
       "    }\n",
       "</style>\n",
       "<table border=\"1\" class=\"dataframe\">\n",
       "  <thead>\n",
       "    <tr style=\"text-align: right;\">\n",
       "      <th></th>\n",
       "      <th>Pan I.D.</th>\n",
       "      <th>Expend $</th>\n",
       "      <th>Income</th>\n",
       "      <th>HH Size</th>\n",
       "      <th>IPT</th>\n",
       "      <th>Quantity</th>\n",
       "      <th>Brand 1</th>\n",
       "      <th>Brand  2</th>\n",
       "      <th>Brand 3</th>\n",
       "      <th>Brand 4</th>\n",
       "      <th>Feature 1</th>\n",
       "      <th>Feature 2</th>\n",
       "      <th>Feature 3</th>\n",
       "      <th>Feature 4</th>\n",
       "      <th>Price 1</th>\n",
       "      <th>Price 2</th>\n",
       "      <th>Price 3</th>\n",
       "      <th>Price 4</th>\n",
       "      <th>PanelistFirstObs</th>\n",
       "    </tr>\n",
       "  </thead>\n",
       "  <tbody>\n",
       "    <tr>\n",
       "      <th>count</th>\n",
       "      <td>2430.000000</td>\n",
       "      <td>2430.000000</td>\n",
       "      <td>2430.000000</td>\n",
       "      <td>2430.000000</td>\n",
       "      <td>2430.000000</td>\n",
       "      <td>2430.000000</td>\n",
       "      <td>2430.000000</td>\n",
       "      <td>2430.000000</td>\n",
       "      <td>2430.000000</td>\n",
       "      <td>2430.000000</td>\n",
       "      <td>2430.000000</td>\n",
       "      <td>2430.000000</td>\n",
       "      <td>2430.000000</td>\n",
       "      <td>2430.000000</td>\n",
       "      <td>2430.000000</td>\n",
       "      <td>2430.000000</td>\n",
       "      <td>2430.000000</td>\n",
       "      <td>2430.000000</td>\n",
       "      <td>2430.000000</td>\n",
       "    </tr>\n",
       "    <tr>\n",
       "      <th>mean</th>\n",
       "      <td>48.607819</td>\n",
       "      <td>36.476062</td>\n",
       "      <td>8.720988</td>\n",
       "      <td>2.802058</td>\n",
       "      <td>4.533745</td>\n",
       "      <td>2.585597</td>\n",
       "      <td>0.341975</td>\n",
       "      <td>0.401235</td>\n",
       "      <td>0.029218</td>\n",
       "      <td>0.227572</td>\n",
       "      <td>0.055556</td>\n",
       "      <td>0.039506</td>\n",
       "      <td>0.037449</td>\n",
       "      <td>0.037449</td>\n",
       "      <td>0.106248</td>\n",
       "      <td>0.081532</td>\n",
       "      <td>0.053622</td>\n",
       "      <td>0.079507</td>\n",
       "      <td>0.041152</td>\n",
       "    </tr>\n",
       "    <tr>\n",
       "      <th>std</th>\n",
       "      <td>27.858116</td>\n",
       "      <td>31.673291</td>\n",
       "      <td>3.800654</td>\n",
       "      <td>1.173291</td>\n",
       "      <td>14.930892</td>\n",
       "      <td>1.869089</td>\n",
       "      <td>0.474469</td>\n",
       "      <td>0.490249</td>\n",
       "      <td>0.168452</td>\n",
       "      <td>0.419351</td>\n",
       "      <td>0.229109</td>\n",
       "      <td>0.194836</td>\n",
       "      <td>0.189897</td>\n",
       "      <td>0.189897</td>\n",
       "      <td>0.020587</td>\n",
       "      <td>0.011047</td>\n",
       "      <td>0.008054</td>\n",
       "      <td>0.007714</td>\n",
       "      <td>0.198683</td>\n",
       "    </tr>\n",
       "    <tr>\n",
       "      <th>min</th>\n",
       "      <td>1.000000</td>\n",
       "      <td>-0.100000</td>\n",
       "      <td>1.000000</td>\n",
       "      <td>1.000000</td>\n",
       "      <td>1.000000</td>\n",
       "      <td>1.000000</td>\n",
       "      <td>0.000000</td>\n",
       "      <td>0.000000</td>\n",
       "      <td>0.000000</td>\n",
       "      <td>0.000000</td>\n",
       "      <td>0.000000</td>\n",
       "      <td>0.000000</td>\n",
       "      <td>0.000000</td>\n",
       "      <td>0.000000</td>\n",
       "      <td>-0.012000</td>\n",
       "      <td>0.000000</td>\n",
       "      <td>0.025000</td>\n",
       "      <td>0.004000</td>\n",
       "      <td>0.000000</td>\n",
       "    </tr>\n",
       "    <tr>\n",
       "      <th>25%</th>\n",
       "      <td>23.000000</td>\n",
       "      <td>12.092500</td>\n",
       "      <td>6.000000</td>\n",
       "      <td>2.000000</td>\n",
       "      <td>1.000000</td>\n",
       "      <td>1.000000</td>\n",
       "      <td>0.000000</td>\n",
       "      <td>0.000000</td>\n",
       "      <td>0.000000</td>\n",
       "      <td>0.000000</td>\n",
       "      <td>0.000000</td>\n",
       "      <td>0.000000</td>\n",
       "      <td>0.000000</td>\n",
       "      <td>0.000000</td>\n",
       "      <td>0.103000</td>\n",
       "      <td>0.081000</td>\n",
       "      <td>0.050000</td>\n",
       "      <td>0.079000</td>\n",
       "      <td>0.000000</td>\n",
       "    </tr>\n",
       "    <tr>\n",
       "      <th>50%</th>\n",
       "      <td>47.000000</td>\n",
       "      <td>27.485001</td>\n",
       "      <td>9.000000</td>\n",
       "      <td>3.000000</td>\n",
       "      <td>3.000000</td>\n",
       "      <td>2.000000</td>\n",
       "      <td>0.000000</td>\n",
       "      <td>0.000000</td>\n",
       "      <td>0.000000</td>\n",
       "      <td>0.000000</td>\n",
       "      <td>0.000000</td>\n",
       "      <td>0.000000</td>\n",
       "      <td>0.000000</td>\n",
       "      <td>0.000000</td>\n",
       "      <td>0.108000</td>\n",
       "      <td>0.086000</td>\n",
       "      <td>0.054000</td>\n",
       "      <td>0.079000</td>\n",
       "      <td>0.000000</td>\n",
       "    </tr>\n",
       "    <tr>\n",
       "      <th>75%</th>\n",
       "      <td>73.000000</td>\n",
       "      <td>51.712500</td>\n",
       "      <td>12.000000</td>\n",
       "      <td>4.000000</td>\n",
       "      <td>5.000000</td>\n",
       "      <td>3.000000</td>\n",
       "      <td>1.000000</td>\n",
       "      <td>1.000000</td>\n",
       "      <td>0.000000</td>\n",
       "      <td>0.000000</td>\n",
       "      <td>0.000000</td>\n",
       "      <td>0.000000</td>\n",
       "      <td>0.000000</td>\n",
       "      <td>0.000000</td>\n",
       "      <td>0.115000</td>\n",
       "      <td>0.086000</td>\n",
       "      <td>0.061000</td>\n",
       "      <td>0.086000</td>\n",
       "      <td>0.000000</td>\n",
       "    </tr>\n",
       "    <tr>\n",
       "      <th>max</th>\n",
       "      <td>100.000000</td>\n",
       "      <td>286.720000</td>\n",
       "      <td>14.000000</td>\n",
       "      <td>6.000000</td>\n",
       "      <td>358.000000</td>\n",
       "      <td>14.000000</td>\n",
       "      <td>1.000000</td>\n",
       "      <td>1.000000</td>\n",
       "      <td>1.000000</td>\n",
       "      <td>1.000000</td>\n",
       "      <td>1.000000</td>\n",
       "      <td>1.000000</td>\n",
       "      <td>1.000000</td>\n",
       "      <td>1.000000</td>\n",
       "      <td>0.193000</td>\n",
       "      <td>0.111000</td>\n",
       "      <td>0.086000</td>\n",
       "      <td>0.104000</td>\n",
       "      <td>1.000000</td>\n",
       "    </tr>\n",
       "  </tbody>\n",
       "</table>\n",
       "</div>"
      ],
      "text/plain": [
       "          Pan I.D.     Expend $       Income      HH Size          IPT  \\\n",
       "count  2430.000000  2430.000000  2430.000000  2430.000000  2430.000000   \n",
       "mean     48.607819    36.476062     8.720988     2.802058     4.533745   \n",
       "std      27.858116    31.673291     3.800654     1.173291    14.930892   \n",
       "min       1.000000    -0.100000     1.000000     1.000000     1.000000   \n",
       "25%      23.000000    12.092500     6.000000     2.000000     1.000000   \n",
       "50%      47.000000    27.485001     9.000000     3.000000     3.000000   \n",
       "75%      73.000000    51.712500    12.000000     4.000000     5.000000   \n",
       "max     100.000000   286.720000    14.000000     6.000000   358.000000   \n",
       "\n",
       "          Quantity      Brand 1     Brand  2      Brand 3      Brand 4  \\\n",
       "count  2430.000000  2430.000000  2430.000000  2430.000000  2430.000000   \n",
       "mean      2.585597     0.341975     0.401235     0.029218     0.227572   \n",
       "std       1.869089     0.474469     0.490249     0.168452     0.419351   \n",
       "min       1.000000     0.000000     0.000000     0.000000     0.000000   \n",
       "25%       1.000000     0.000000     0.000000     0.000000     0.000000   \n",
       "50%       2.000000     0.000000     0.000000     0.000000     0.000000   \n",
       "75%       3.000000     1.000000     1.000000     0.000000     0.000000   \n",
       "max      14.000000     1.000000     1.000000     1.000000     1.000000   \n",
       "\n",
       "         Feature 1    Feature 2    Feature 3    Feature 4      Price 1  \\\n",
       "count  2430.000000  2430.000000  2430.000000  2430.000000  2430.000000   \n",
       "mean      0.055556     0.039506     0.037449     0.037449     0.106248   \n",
       "std       0.229109     0.194836     0.189897     0.189897     0.020587   \n",
       "min       0.000000     0.000000     0.000000     0.000000    -0.012000   \n",
       "25%       0.000000     0.000000     0.000000     0.000000     0.103000   \n",
       "50%       0.000000     0.000000     0.000000     0.000000     0.108000   \n",
       "75%       0.000000     0.000000     0.000000     0.000000     0.115000   \n",
       "max       1.000000     1.000000     1.000000     1.000000     0.193000   \n",
       "\n",
       "           Price 2      Price 3      Price 4  PanelistFirstObs  \n",
       "count  2430.000000  2430.000000  2430.000000       2430.000000  \n",
       "mean      0.081532     0.053622     0.079507          0.041152  \n",
       "std       0.011047     0.008054     0.007714          0.198683  \n",
       "min       0.000000     0.025000     0.004000          0.000000  \n",
       "25%       0.081000     0.050000     0.079000          0.000000  \n",
       "50%       0.086000     0.054000     0.079000          0.000000  \n",
       "75%       0.086000     0.061000     0.086000          0.000000  \n",
       "max       0.111000     0.086000     0.104000          1.000000  "
      ]
     },
     "execution_count": 3,
     "metadata": {},
     "output_type": "execute_result"
    }
   ],
   "source": [
    "yogurt_df.describe()"
   ]
  },
  {
   "cell_type": "code",
   "execution_count": 4,
   "id": "e41b32c8",
   "metadata": {},
   "outputs": [
    {
     "data": {
      "text/html": [
       "<div>\n",
       "<style scoped>\n",
       "    .dataframe tbody tr th:only-of-type {\n",
       "        vertical-align: middle;\n",
       "    }\n",
       "\n",
       "    .dataframe tbody tr th {\n",
       "        vertical-align: top;\n",
       "    }\n",
       "\n",
       "    .dataframe thead th {\n",
       "        text-align: right;\n",
       "    }\n",
       "</style>\n",
       "<table border=\"1\" class=\"dataframe\">\n",
       "  <thead>\n",
       "    <tr style=\"text-align: right;\">\n",
       "      <th></th>\n",
       "      <th>Pan I.D.</th>\n",
       "      <th>Expend $</th>\n",
       "      <th>Income</th>\n",
       "      <th>HH Size</th>\n",
       "      <th>IPT</th>\n",
       "      <th>Quantity</th>\n",
       "      <th>Brand 1</th>\n",
       "      <th>Brand  2</th>\n",
       "      <th>Brand 3</th>\n",
       "      <th>Brand 4</th>\n",
       "      <th>Feature 1</th>\n",
       "      <th>Feature 2</th>\n",
       "      <th>Feature 3</th>\n",
       "      <th>Feature 4</th>\n",
       "      <th>Price 1</th>\n",
       "      <th>Price 2</th>\n",
       "      <th>Price 3</th>\n",
       "      <th>Price 4</th>\n",
       "      <th>PanelistFirstObs</th>\n",
       "    </tr>\n",
       "  </thead>\n",
       "  <tbody>\n",
       "    <tr>\n",
       "      <th>0</th>\n",
       "      <td>1</td>\n",
       "      <td>40.900002</td>\n",
       "      <td>9</td>\n",
       "      <td>2</td>\n",
       "      <td>5</td>\n",
       "      <td>2</td>\n",
       "      <td>0</td>\n",
       "      <td>0</td>\n",
       "      <td>0</td>\n",
       "      <td>1</td>\n",
       "      <td>0</td>\n",
       "      <td>0</td>\n",
       "      <td>0</td>\n",
       "      <td>0</td>\n",
       "      <td>0.108</td>\n",
       "      <td>0.081</td>\n",
       "      <td>0.061</td>\n",
       "      <td>0.079</td>\n",
       "      <td>1</td>\n",
       "    </tr>\n",
       "    <tr>\n",
       "      <th>1</th>\n",
       "      <td>1</td>\n",
       "      <td>16.809999</td>\n",
       "      <td>9</td>\n",
       "      <td>2</td>\n",
       "      <td>5</td>\n",
       "      <td>2</td>\n",
       "      <td>0</td>\n",
       "      <td>1</td>\n",
       "      <td>0</td>\n",
       "      <td>0</td>\n",
       "      <td>0</td>\n",
       "      <td>0</td>\n",
       "      <td>0</td>\n",
       "      <td>0</td>\n",
       "      <td>0.108</td>\n",
       "      <td>0.098</td>\n",
       "      <td>0.064</td>\n",
       "      <td>0.075</td>\n",
       "      <td>0</td>\n",
       "    </tr>\n",
       "    <tr>\n",
       "      <th>2</th>\n",
       "      <td>1</td>\n",
       "      <td>4.060000</td>\n",
       "      <td>9</td>\n",
       "      <td>2</td>\n",
       "      <td>1</td>\n",
       "      <td>2</td>\n",
       "      <td>0</td>\n",
       "      <td>1</td>\n",
       "      <td>0</td>\n",
       "      <td>0</td>\n",
       "      <td>0</td>\n",
       "      <td>0</td>\n",
       "      <td>0</td>\n",
       "      <td>0</td>\n",
       "      <td>0.108</td>\n",
       "      <td>0.098</td>\n",
       "      <td>0.061</td>\n",
       "      <td>0.086</td>\n",
       "      <td>0</td>\n",
       "    </tr>\n",
       "    <tr>\n",
       "      <th>3</th>\n",
       "      <td>1</td>\n",
       "      <td>34.459999</td>\n",
       "      <td>9</td>\n",
       "      <td>2</td>\n",
       "      <td>4</td>\n",
       "      <td>2</td>\n",
       "      <td>0</td>\n",
       "      <td>1</td>\n",
       "      <td>0</td>\n",
       "      <td>0</td>\n",
       "      <td>0</td>\n",
       "      <td>0</td>\n",
       "      <td>0</td>\n",
       "      <td>0</td>\n",
       "      <td>0.108</td>\n",
       "      <td>0.098</td>\n",
       "      <td>0.061</td>\n",
       "      <td>0.086</td>\n",
       "      <td>0</td>\n",
       "    </tr>\n",
       "    <tr>\n",
       "      <th>4</th>\n",
       "      <td>1</td>\n",
       "      <td>8.390000</td>\n",
       "      <td>9</td>\n",
       "      <td>2</td>\n",
       "      <td>7</td>\n",
       "      <td>2</td>\n",
       "      <td>0</td>\n",
       "      <td>1</td>\n",
       "      <td>0</td>\n",
       "      <td>0</td>\n",
       "      <td>0</td>\n",
       "      <td>0</td>\n",
       "      <td>0</td>\n",
       "      <td>0</td>\n",
       "      <td>0.125</td>\n",
       "      <td>0.098</td>\n",
       "      <td>0.049</td>\n",
       "      <td>0.079</td>\n",
       "      <td>0</td>\n",
       "    </tr>\n",
       "  </tbody>\n",
       "</table>\n",
       "</div>"
      ],
      "text/plain": [
       "   Pan I.D.   Expend $  Income  HH Size  IPT  Quantity  Brand 1  Brand  2  \\\n",
       "0         1  40.900002       9        2    5         2        0         0   \n",
       "1         1  16.809999       9        2    5         2        0         1   \n",
       "2         1   4.060000       9        2    1         2        0         1   \n",
       "3         1  34.459999       9        2    4         2        0         1   \n",
       "4         1   8.390000       9        2    7         2        0         1   \n",
       "\n",
       "   Brand 3  Brand 4  Feature 1  Feature 2  Feature 3  Feature 4  Price 1  \\\n",
       "0        0        1          0          0          0          0    0.108   \n",
       "1        0        0          0          0          0          0    0.108   \n",
       "2        0        0          0          0          0          0    0.108   \n",
       "3        0        0          0          0          0          0    0.108   \n",
       "4        0        0          0          0          0          0    0.125   \n",
       "\n",
       "   Price 2  Price 3  Price 4  PanelistFirstObs  \n",
       "0    0.081    0.061    0.079                 1  \n",
       "1    0.098    0.064    0.075                 0  \n",
       "2    0.098    0.061    0.086                 0  \n",
       "3    0.098    0.061    0.086                 0  \n",
       "4    0.098    0.049    0.079                 0  "
      ]
     },
     "execution_count": 4,
     "metadata": {},
     "output_type": "execute_result"
    }
   ],
   "source": [
    "yogurt_df.head()"
   ]
  },
  {
   "cell_type": "markdown",
   "id": "c0b7c6b6",
   "metadata": {},
   "source": [
    "# Baseline model"
   ]
  },
  {
   "cell_type": "code",
   "execution_count": 5,
   "id": "f78a9f81",
   "metadata": {},
   "outputs": [],
   "source": [
    "\"\"\"\n",
    "fun callable\n",
    "The objective function to be minimized.\n",
    "\n",
    "fun(x, *args) -> float\n",
    "\n",
    "where x is a 1-D array with shape (n,) and args is a tuple of the fixed parameters needed to completely specify the function.\n",
    "\"\"\"\n",
    "def optimization_func(x):\n",
    "    a1, a2, a3, bf, bp = x\n",
    "    v1 = np.exp(a1 + bf*yogurt_df['Feature 1'] + bp*yogurt_df['Price 1'])\n",
    "    v2 = np.exp(a2 + bf*yogurt_df['Feature 2'] + bp*yogurt_df['Price 2'])\n",
    "    v3 = np.exp(a3 + bf*yogurt_df['Feature 3'] + bp*yogurt_df['Price 3'])\n",
    "    v4 = np.exp(0 + bf*yogurt_df['Feature 4'] + bp*yogurt_df['Price 4'])\n",
    "    denom = v1 + v2 + v3 + v4\n",
    "    loss = (v1*yogurt_df['Brand 1'] + v2*yogurt_df['Brand  2'] + v3*yogurt_df['Brand 3'] + v4*yogurt_df['Brand 4'])/denom\n",
    "    log_loss = np.log(loss)\n",
    "    total_ll = np.sum(log_loss)\n",
    "    \n",
    "    return -total_ll"
   ]
  },
  {
   "cell_type": "code",
   "execution_count": 104,
   "id": "7591730e",
   "metadata": {},
   "outputs": [],
   "source": [
    "a1, a2, a3, bf, bp = 1, 1, 1, 1, 1\n",
    "x_init = np.array([a1, a2, a3, bf, bp])\n",
    "output = opt.minimize(optimization_func, x_init, options={'gtol': 0.001})"
   ]
  },
  {
   "cell_type": "code",
   "execution_count": 58,
   "id": "d64364a6",
   "metadata": {},
   "outputs": [
    {
     "data": {
      "text/plain": [
       "array([  1.38833517,   0.64329837,  -3.0792272 ,   0.48751425,\n",
       "       -37.09431806])"
      ]
     },
     "execution_count": 58,
     "metadata": {},
     "output_type": "execute_result"
    }
   ],
   "source": [
    "output.x"
   ]
  },
  {
   "cell_type": "code",
   "execution_count": 105,
   "id": "fc5abbb4",
   "metadata": {},
   "outputs": [
    {
     "data": {
      "text/plain": [
       "      fun: 2658.556697507448\n",
       " hess_inv: array([[ 7.31431810e-03,  2.19894144e-03, -2.60613505e-03,\n",
       "        -2.02728035e-03, -1.48218164e-01],\n",
       "       [ 2.19894144e-03,  3.03292937e-03,  1.60753512e-03,\n",
       "        -1.29048511e-04, -1.13511244e-02],\n",
       "       [-2.60613505e-03,  1.60753512e-03,  1.98742582e-02,\n",
       "         1.56499141e-03,  1.54833107e-01],\n",
       "       [-2.02728035e-03, -1.29048511e-04,  1.56499141e-03,\n",
       "         1.26688626e-02,  6.20651477e-02],\n",
       "       [-1.48218164e-01, -1.13511244e-02,  1.54833107e-01,\n",
       "         6.20651477e-02,  5.24561718e+00]])\n",
       "      jac: array([ 0.00000000e+00,  0.00000000e+00, -1.22070312e-04, -1.22070312e-04,\n",
       "       -3.05175781e-05])\n",
       "  message: 'Optimization terminated successfully.'\n",
       "     nfev: 114\n",
       "      nit: 16\n",
       "     njev: 19\n",
       "   status: 0\n",
       "  success: True\n",
       "        x: array([  1.38775775,   0.64350504,  -3.08612187,   0.48741097,\n",
       "       -37.05809013])"
      ]
     },
     "execution_count": 105,
     "metadata": {},
     "output_type": "execute_result"
    }
   ],
   "source": [
    "output"
   ]
  },
  {
   "cell_type": "markdown",
   "id": "f306b5aa",
   "metadata": {},
   "source": [
    "The parameter estimates from the optimizer are\\\n",
    "a1 = 1.38775208\\\n",
    "a2 = 0.64350485\\\n",
    "a3 = -3.08611349\\\n",
    "bf = 0.48741416\\\n",
    "bp = -37.05787954"
   ]
  },
  {
   "cell_type": "code",
   "execution_count": 21,
   "id": "20fe5d21",
   "metadata": {},
   "outputs": [],
   "source": [
    "max_log_likelihood = -output.fun"
   ]
  },
  {
   "cell_type": "code",
   "execution_count": 22,
   "id": "5d2bebb0",
   "metadata": {},
   "outputs": [
    {
     "data": {
      "text/plain": [
       "-2658.556697505227"
      ]
     },
     "execution_count": 22,
     "metadata": {},
     "output_type": "execute_result"
    }
   ],
   "source": [
    "max_log_likelihood"
   ]
  },
  {
   "cell_type": "markdown",
   "id": "a313b6de",
   "metadata": {},
   "source": [
    "# Nested Logit model"
   ]
  },
  {
   "cell_type": "markdown",
   "id": "e9040341",
   "metadata": {},
   "source": [
    "### Case 1: 3 brands in one bucket and the last in another"
   ]
  },
  {
   "cell_type": "code",
   "execution_count": 183,
   "id": "e648066f",
   "metadata": {},
   "outputs": [],
   "source": [
    "def nested_optimization_func(x):\n",
    "    a1, a2, a3, bf, bp, theta = x\n",
    "    rho = np.exp(theta)/(np.exp(theta)+1)\n",
    "    v1 = np.exp((a1 + bf*yogurt_df['Feature 1'] + bp*yogurt_df['Price 1']) / rho)\n",
    "    v2 = np.exp((a2 + bf*yogurt_df['Feature 2'] + bp*yogurt_df['Price 2']) / rho)\n",
    "    v3 = np.exp((a3 + bf*yogurt_df['Feature 3'] + bp*yogurt_df['Price 3']) / rho)\n",
    "    v4 = np.exp(bf*yogurt_df['Feature 4'] + bp*yogurt_df['Price 4'])\n",
    "    denom = v1 + v2 + v3\n",
    "    \n",
    "    global P1, P2, P3, P4\n",
    "    \n",
    "    P4 = v4 / (np.power(denom, rho) + v4)\n",
    "    P1 = (1 - P4) * v1 / denom\n",
    "    P2 = (1 - P4) * v2 / denom\n",
    "    P3 = (1 - P4) * v3 / denom\n",
    "\n",
    "    loss = (P1 * yogurt_df['Brand 1'] + P2 * yogurt_df['Brand  2'] + P3 * yogurt_df['Brand 3'] + P4 * yogurt_df['Brand 4'])\n",
    "    log_loss = np.log(loss)\n",
    "    total_ll = np.sum(log_loss)\n",
    "    \n",
    "    return -total_ll"
   ]
  },
  {
   "cell_type": "code",
   "execution_count": 184,
   "id": "ff926e12",
   "metadata": {},
   "outputs": [],
   "source": [
    "a1, a2, a3, bf, bp, theta = 1, 1, 1, 1, 1, 1\n",
    "x_init = np.array([a1, a2, a3, bf, bp, theta])\n",
    "output = opt.minimize(nested_optimization_func, x_init, options={'gtol': 0.001})"
   ]
  },
  {
   "cell_type": "code",
   "execution_count": 185,
   "id": "99c84e89",
   "metadata": {},
   "outputs": [
    {
     "data": {
      "text/plain": [
       "array([  1.38167812,   0.83941322,  -1.65858047,   0.37447103,\n",
       "       -26.58196683,   0.59016408])"
      ]
     },
     "execution_count": 185,
     "metadata": {},
     "output_type": "execute_result"
    }
   ],
   "source": [
    "output.x"
   ]
  },
  {
   "cell_type": "code",
   "execution_count": 167,
   "id": "3e896c64",
   "metadata": {},
   "outputs": [
    {
     "data": {
      "text/plain": [
       "      fun: 2653.764600012444\n",
       " hess_inv: array([[ 5.68284288e-03,  7.23662873e-04, -1.21312961e-02,\n",
       "        -7.56063197e-04, -1.89546689e-01,  1.18517553e-02],\n",
       "       [ 7.23662873e-04,  5.33585131e-03,  2.62917653e-02,\n",
       "        -1.67351175e-03,  2.14535402e-01, -2.56335978e-02],\n",
       "       [-1.21312961e-02,  2.62917653e-02,  2.10449297e-01,\n",
       "        -1.19541285e-02,  1.89847482e+00, -2.09180668e-01],\n",
       "       [-7.56063197e-04, -1.67351175e-03, -1.19541285e-02,\n",
       "         7.54488746e-03, -7.07308160e-02,  1.30472472e-02],\n",
       "       [-1.89546689e-01,  2.14535402e-01,  1.89847482e+00,\n",
       "        -7.07308160e-02,  1.93384556e+01, -1.87806123e+00],\n",
       "       [ 1.18517553e-02, -2.56335978e-02, -2.09180668e-01,\n",
       "         1.30472472e-02, -1.87806123e+00,  2.18338493e-01]])\n",
       "      jac: array([-0.00064087,  0.00054932,  0.0005188 , -0.00036621, -0.00012207,\n",
       "        0.00018311])\n",
       "  message: 'Optimization terminated successfully.'\n",
       "     nfev: 203\n",
       "      nit: 24\n",
       "     njev: 29\n",
       "   status: 0\n",
       "  success: True\n",
       "        x: array([  1.38167812,   0.83941322,  -1.65858047,   0.37447103,\n",
       "       -26.58196683,   0.59016408])"
      ]
     },
     "execution_count": 167,
     "metadata": {},
     "output_type": "execute_result"
    }
   ],
   "source": [
    "output"
   ]
  },
  {
   "cell_type": "code",
   "execution_count": 186,
   "id": "b56f57d2",
   "metadata": {},
   "outputs": [],
   "source": [
    "a1_mle = np.sqrt(output.hess_inv[0,0])\n",
    "a2_mle = np.sqrt(output.hess_inv[1,1])\n",
    "a3_mle = np.sqrt(output.hess_inv[2,2])\n",
    "bf_mle = np.sqrt(output.hess_inv[3,3])\n",
    "bp_mle = np.sqrt(output.hess_inv[4,4])\n",
    "theta_mle = np.sqrt(output.hess_inv[5,5])"
   ]
  },
  {
   "cell_type": "code",
   "execution_count": 187,
   "id": "f69c82a0",
   "metadata": {},
   "outputs": [
    {
     "name": "stdout",
     "output_type": "stream",
     "text": [
      "a1_mle: 0.0753846329390803, a2_mle: 0.07304691169407931, a3_mle: 0.4587475310236221, bf_mle: 0.086861311649503, bp_mle: 4.3975510881882816, theta1_mle: 0.46726704654099027\n"
     ]
    }
   ],
   "source": [
    "print (f\"a1_mle: {a1_mle}, a2_mle: {a2_mle}, a3_mle: {a3_mle}, bf_mle: {bf_mle}, bp_mle: {bp_mle}, theta1_mle: {theta_mle}\")"
   ]
  },
  {
   "cell_type": "code",
   "execution_count": 208,
   "id": "db7e3d89",
   "metadata": {},
   "outputs": [],
   "source": [
    "rho = np.exp(0.59016408)/(np.exp(0.59016408)+1)"
   ]
  },
  {
   "cell_type": "code",
   "execution_count": 209,
   "id": "31d6bf9d",
   "metadata": {},
   "outputs": [
    {
     "data": {
      "text/plain": [
       "0.6434027923797958"
      ]
     },
     "execution_count": 209,
     "metadata": {},
     "output_type": "execute_result"
    }
   ],
   "source": [
    "rho"
   ]
  },
  {
   "cell_type": "markdown",
   "id": "532503f6",
   "metadata": {},
   "source": [
    "### Case 2: Brands 1 and 2 in one bucket and 3 and 4 in another"
   ]
  },
  {
   "cell_type": "code",
   "execution_count": 190,
   "id": "22d679ca",
   "metadata": {},
   "outputs": [],
   "source": [
    "def nested_optimization_func_1(x):\n",
    "    a1, a2, a3, bf, bp, theta1, theta2 = x\n",
    "    rho1 = np.exp(theta1)/(np.exp(theta1)+1)\n",
    "    rho2 = np.exp(theta2)/(np.exp(theta2)+1)\n",
    "\n",
    "    v1 = np.exp((a1 + bf*yogurt_df['Feature 1'] + bp*yogurt_df['Price 1']) / rho1)\n",
    "    v2 = np.exp((a2 + bf*yogurt_df['Feature 2'] + bp*yogurt_df['Price 2']) / rho1)\n",
    "    denom1 = v1 + v2\n",
    "\n",
    "    v3 = np.exp((a3 + bf*yogurt_df['Feature 3'] + bp*yogurt_df['Price 3']) / rho2)\n",
    "    v4 = np.exp((bf*yogurt_df['Feature 4'] + bp*yogurt_df['Price 4']) / rho2)\n",
    "    denom2 = v3 + v4\n",
    "    \n",
    "    b_1 = np.power(denom1, rho1) / (np.power(denom1, rho1) + np.power(denom2, rho2))\n",
    "    b_2 = np.power(denom2, rho2) / (np.power(denom1, rho1) + np.power(denom2, rho2))\n",
    "    \n",
    "    P1 = (b_1 * v1) / denom1\n",
    "    P2 = (b_1 * v2) / denom1\n",
    "    P3 = (b_2 * v3) / denom2\n",
    "    P4 = (b_2 * v4) / denom2\n",
    "\n",
    "    loss = (P1 * yogurt_df['Brand 1'] + P2 * yogurt_df['Brand  2'] + P3 * yogurt_df['Brand 3'] + P4 * yogurt_df['Brand 4'])\n",
    "    log_loss = np.log(loss)\n",
    "    total_ll = np.sum(log_loss)\n",
    "    \n",
    "    return -total_ll"
   ]
  },
  {
   "cell_type": "code",
   "execution_count": 191,
   "id": "db376681",
   "metadata": {},
   "outputs": [],
   "source": [
    "a1, a2, a3, bf, bp, theta1, theta2 = 1, 1, 1, 1, 1, 1, 1\n",
    "x_init = np.array([a1, a2, a3, bf, bp, theta1, theta2])\n",
    "output = opt.minimize(nested_optimization_func_1, x_init, options={'gtol': 0.001})"
   ]
  },
  {
   "cell_type": "code",
   "execution_count": 192,
   "id": "2eec728d",
   "metadata": {},
   "outputs": [
    {
     "data": {
      "text/plain": [
       "array([  1.3084072 ,   0.73436123,  -1.92961585,   0.3870842 ,\n",
       "       -28.19601075,   0.85518528,   0.10108539])"
      ]
     },
     "execution_count": 192,
     "metadata": {},
     "output_type": "execute_result"
    }
   ],
   "source": [
    "output.x"
   ]
  },
  {
   "cell_type": "code",
   "execution_count": 193,
   "id": "4a6f43ab",
   "metadata": {},
   "outputs": [
    {
     "data": {
      "text/plain": [
       "      fun: 2654.0983981496765\n",
       " hess_inv: array([[ 4.84372359e-03,  1.72424773e-03, -8.14976920e-03,\n",
       "        -7.86275630e-04, -1.08883955e-01,  3.09611297e-03,\n",
       "         1.03580820e-02],\n",
       "       [ 1.72424773e-03,  4.32907735e-03,  7.17088491e-03,\n",
       "        -1.53340160e-03,  1.19164753e-01, -1.92948701e-02,\n",
       "        -6.62193317e-03],\n",
       "       [-8.14976920e-03,  7.17088491e-03,  8.30675148e-02,\n",
       "        -7.63118465e-03,  7.93415609e-01, -9.11523526e-02,\n",
       "        -1.18053308e-01],\n",
       "       [-7.86275630e-04, -1.53340160e-03, -7.63118465e-03,\n",
       "         8.33915294e-03, -6.24197208e-02,  1.53208475e-02,\n",
       "         1.21092358e-02],\n",
       "       [-1.08883955e-01,  1.19164753e-01,  7.93415609e-01,\n",
       "        -6.24197208e-02,  1.15543900e+01, -1.27090871e+00,\n",
       "        -8.88274804e-01],\n",
       "       [ 3.09611297e-03, -1.92948701e-02, -9.11523526e-02,\n",
       "         1.53208475e-02, -1.27090871e+00,  2.00551112e-01,\n",
       "         1.07821622e-01],\n",
       "       [ 1.03580820e-02, -6.62193317e-03, -1.18053308e-01,\n",
       "         1.21092358e-02, -8.88274804e-01,  1.07821622e-01,\n",
       "         1.95420405e-01]])\n",
       "      jac: array([ 1.83105469e-04, -1.83105469e-04,  1.83105469e-04, -6.10351562e-05,\n",
       "        0.00000000e+00,  3.05175781e-05,  6.10351562e-05])\n",
       "  message: 'Optimization terminated successfully.'\n",
       "     nfev: 312\n",
       "      nit: 33\n",
       "     njev: 39\n",
       "   status: 0\n",
       "  success: True\n",
       "        x: array([  1.3084072 ,   0.73436123,  -1.92961585,   0.3870842 ,\n",
       "       -28.19601075,   0.85518528,   0.10108539])"
      ]
     },
     "execution_count": 193,
     "metadata": {},
     "output_type": "execute_result"
    }
   ],
   "source": [
    "output"
   ]
  },
  {
   "cell_type": "markdown",
   "id": "3ab392b2",
   "metadata": {},
   "source": [
    "The parameter estimates from the optimizer are\\\n",
    "a1 = 1.3084072\\\n",
    "a2 = 0.73436123\\\n",
    "a3 = -1.92961585\\\n",
    "bf = 0.3870842\\\n",
    "bp = -28.19601075\\\n",
    "theta1 = 0.85518528\\\n",
    "theta2 = 0.10108539\\\n",
    "Maximized Log Likelihood = -2654.0983981496765"
   ]
  },
  {
   "cell_type": "code",
   "execution_count": 194,
   "id": "38736e5e",
   "metadata": {},
   "outputs": [],
   "source": [
    "a1_mle = np.sqrt(output.hess_inv[0,0])\n",
    "a2_mle = np.sqrt(output.hess_inv[1,1])\n",
    "a3_mle = np.sqrt(output.hess_inv[2,2])\n",
    "bf_mle = np.sqrt(output.hess_inv[3,3])\n",
    "bp_mle = np.sqrt(output.hess_inv[4,4])\n",
    "theta1_mle = np.sqrt(output.hess_inv[5,5])\n",
    "theta2_mle = np.sqrt(output.hess_inv[6,6])"
   ]
  },
  {
   "cell_type": "code",
   "execution_count": 195,
   "id": "02887e3d",
   "metadata": {},
   "outputs": [
    {
     "name": "stdout",
     "output_type": "stream",
     "text": [
      "a1_mle: 0.06959686478161163, a2_mle: 0.06579572439957825, a3_mle: 0.2882143555882148, bf_mle: 0.09131896266284897, bp_mle: 3.3991749044180164, theta1_mle: 0.4478293331210372, theta2_mle: 0.4420638025043594\n"
     ]
    }
   ],
   "source": [
    "print (f\"a1_mle: {a1_mle}, a2_mle: {a2_mle}, a3_mle: {a3_mle}, bf_mle: {bf_mle}, bp_mle: {bp_mle}, theta1_mle: {theta1_mle}, theta2_mle: {theta2_mle}\")"
   ]
  },
  {
   "cell_type": "code",
   "execution_count": 210,
   "id": "7873562a",
   "metadata": {},
   "outputs": [],
   "source": [
    "rho1 = np.exp(0.85518528)/(np.exp(0.85518528)+1)\n",
    "rho2 = np.exp(0.10108539)/(np.exp(0.10108539)+1)"
   ]
  },
  {
   "cell_type": "code",
   "execution_count": 211,
   "id": "ba87eba6",
   "metadata": {},
   "outputs": [
    {
     "data": {
      "text/plain": [
       "0.7016537407957196"
      ]
     },
     "execution_count": 211,
     "metadata": {},
     "output_type": "execute_result"
    }
   ],
   "source": [
    "rho1"
   ]
  },
  {
   "cell_type": "code",
   "execution_count": 212,
   "id": "4e504d36",
   "metadata": {},
   "outputs": [
    {
     "data": {
      "text/plain": [
       "0.5252498503743774"
      ]
     },
     "execution_count": 212,
     "metadata": {},
     "output_type": "execute_result"
    }
   ],
   "source": [
    "rho2"
   ]
  },
  {
   "cell_type": "markdown",
   "id": "39748451",
   "metadata": {},
   "source": [
    "### Case 3: Brands 1 and 3 in one bucket and 2 and 4 in another"
   ]
  },
  {
   "cell_type": "code",
   "execution_count": 199,
   "id": "3cc76b53",
   "metadata": {},
   "outputs": [],
   "source": [
    "def nested_optimization_func_2(x):\n",
    "    a1, a2, a3, bf, bp, theta1, theta2 = x\n",
    "    rho1 = np.exp(theta1)/(np.exp(theta1)+1)\n",
    "    rho2 = np.exp(theta2)/(np.exp(theta2)+1)\n",
    "\n",
    "    v1 = np.exp((a1 + bf*yogurt_df['Feature 1'] + bp*yogurt_df['Price 1']) / rho1)\n",
    "    v3 = np.exp((a3 + bf*yogurt_df['Feature 3'] + bp*yogurt_df['Price 3']) / rho1)\n",
    "    \n",
    "    denom1 = v1 + v3\n",
    "    \n",
    "    v2 = np.exp((a2 + bf*yogurt_df['Feature 2'] + bp*yogurt_df['Price 2']) / rho2)\n",
    "    v4 = np.exp((bf*yogurt_df['Feature 4'] + bp*yogurt_df['Price 4']) / rho2)\n",
    "    denom2 = v2 + v4\n",
    "    \n",
    "    b_1 = np.power(denom1, rho1) / (np.power(denom1, rho1) + np.power(denom2, rho2))\n",
    "    b_2 = np.power(denom2, rho2) / (np.power(denom1, rho1) + np.power(denom2, rho2))\n",
    "    \n",
    "    P1 = (b_1 * v1) / denom1\n",
    "    P2 = (b_2 * v2) / denom2\n",
    "    P3 = (b_1 * v3) / denom1\n",
    "    P4 = (b_2 * v4) / denom2\n",
    "\n",
    "    loss = (P1 * yogurt_df['Brand 1'] + P2 * yogurt_df['Brand  2'] + P3 * yogurt_df['Brand 3'] + P4 * yogurt_df['Brand 4'])\n",
    "    log_loss = np.log(loss)\n",
    "    total_ll = np.sum(log_loss)\n",
    "    \n",
    "    return -total_ll"
   ]
  },
  {
   "cell_type": "code",
   "execution_count": 200,
   "id": "dd9c0b65",
   "metadata": {},
   "outputs": [],
   "source": [
    "a1, a2, a3, bf, bp, theta1, theta2 = 1, 1, 1, 1, 1, 1, 1\n",
    "x_init = np.array([a1, a2, a3, bf, bp, theta1, theta2])\n",
    "output = opt.minimize(nested_optimization_func_2, x_init, options={'gtol': 0.001})"
   ]
  },
  {
   "cell_type": "code",
   "execution_count": 201,
   "id": "128f7827",
   "metadata": {},
   "outputs": [
    {
     "data": {
      "text/plain": [
       "array([  1.38130384,   0.64233374,  -2.84709944,   0.49156923,\n",
       "       -36.51054293,   2.21540782,  14.54957194])"
      ]
     },
     "execution_count": 201,
     "metadata": {},
     "output_type": "execute_result"
    }
   ],
   "source": [
    "output.x"
   ]
  },
  {
   "cell_type": "code",
   "execution_count": 202,
   "id": "a8e71094",
   "metadata": {},
   "outputs": [
    {
     "data": {
      "text/plain": [
       "      fun: 2658.396648614351\n",
       " hess_inv: array([[ 4.30904176e-03,  1.85510149e-03, -7.26736744e-03,\n",
       "        -3.48890387e-05, -5.59672173e-02,  3.83050377e-02,\n",
       "         7.62898983e-01],\n",
       "       [ 1.85510149e-03,  2.69116375e-03, -9.51117494e-05,\n",
       "         1.09696013e-03, -6.48563302e-03,  5.28812929e-03,\n",
       "         2.03324200e+00],\n",
       "       [-7.26736744e-03, -9.51117494e-05,  1.47084911e-01,\n",
       "         1.83869085e-03,  4.91073243e-01, -6.09675795e-01,\n",
       "        -1.69728884e-01],\n",
       "       [-3.48890387e-05,  1.09696013e-03,  1.83869085e-03,\n",
       "         1.13937913e-02,  1.78662378e-02, -1.40323912e-02,\n",
       "         4.49398458e+00],\n",
       "       [-5.59672173e-02, -6.48563302e-03,  4.91073243e-01,\n",
       "         1.78662378e-02,  2.59337062e+00, -2.12468780e+00,\n",
       "        -1.00914411e+01],\n",
       "       [ 3.83050377e-02,  5.28812929e-03, -6.09675795e-01,\n",
       "        -1.40323912e-02, -2.12468780e+00,  2.76910717e+00,\n",
       "        -6.57411241e+00],\n",
       "       [ 7.62898983e-01,  2.03324200e+00, -1.69728884e-01,\n",
       "         4.49398458e+00, -1.00914411e+01, -6.57411241e+00,\n",
       "         1.55015651e+04]])\n",
       "      jac: array([-0.00408936,  0.01196289, -0.00158691,  0.00408936, -0.00030518,\n",
       "       -0.00054932,  0.        ])\n",
       "  message: 'Desired error not necessarily achieved due to precision loss.'\n",
       "     nfev: 900\n",
       "      nit: 56\n",
       "     njev: 111\n",
       "   status: 2\n",
       "  success: False\n",
       "        x: array([  1.38130384,   0.64233374,  -2.84709944,   0.49156923,\n",
       "       -36.51054293,   2.21540782,  14.54957194])"
      ]
     },
     "execution_count": 202,
     "metadata": {},
     "output_type": "execute_result"
    }
   ],
   "source": [
    "output"
   ]
  },
  {
   "cell_type": "code",
   "execution_count": 203,
   "id": "e2567ae9",
   "metadata": {},
   "outputs": [],
   "source": [
    "a1_mle = np.sqrt(output.hess_inv[0,0])\n",
    "a2_mle = np.sqrt(output.hess_inv[1,1])\n",
    "a3_mle = np.sqrt(output.hess_inv[2,2])\n",
    "bf_mle = np.sqrt(output.hess_inv[3,3])\n",
    "bp_mle = np.sqrt(output.hess_inv[4,4])\n",
    "theta1_mle = np.sqrt(output.hess_inv[5,5])\n",
    "theta2_mle = np.sqrt(output.hess_inv[6,6])"
   ]
  },
  {
   "cell_type": "code",
   "execution_count": 204,
   "id": "35640ee0",
   "metadata": {},
   "outputs": [
    {
     "name": "stdout",
     "output_type": "stream",
     "text": [
      "a1_mle: 0.06564329177505317, a2_mle: 0.05187642773150767, a3_mle: 0.3835165074220923, bf_mle: 0.10674170379170027, bp_mle: 1.610394553674037, theta1_mle: 1.6640634528084732, theta2_mle: 124.50528148876883\n"
     ]
    }
   ],
   "source": [
    "print (f\"a1_mle: {a1_mle}, a2_mle: {a2_mle}, a3_mle: {a3_mle}, bf_mle: {bf_mle}, bp_mle: {bp_mle}, theta1_mle: {theta1_mle}, theta2_mle: {theta2_mle}\")"
   ]
  },
  {
   "cell_type": "code",
   "execution_count": 213,
   "id": "a6c89df4",
   "metadata": {},
   "outputs": [],
   "source": [
    "rho1 = np.exp(2.21540782)/(np.exp(2.21540782)+1)\n",
    "rho2 = np.exp(14.54957194)/(np.exp(14.54957194)+1)"
   ]
  },
  {
   "cell_type": "code",
   "execution_count": 214,
   "id": "40921bd0",
   "metadata": {},
   "outputs": [
    {
     "data": {
      "text/plain": [
       "0.901624630655926"
      ]
     },
     "execution_count": 214,
     "metadata": {},
     "output_type": "execute_result"
    }
   ],
   "source": [
    "rho1"
   ]
  },
  {
   "cell_type": "code",
   "execution_count": 215,
   "id": "5ef06a0b",
   "metadata": {},
   "outputs": [
    {
     "data": {
      "text/plain": [
       "0.9999995200444877"
      ]
     },
     "execution_count": 215,
     "metadata": {},
     "output_type": "execute_result"
    }
   ],
   "source": [
    "rho2"
   ]
  },
  {
   "cell_type": "markdown",
   "id": "e8294a44",
   "metadata": {},
   "source": [
    "### Case 4: Brands 1 and 4 in one bucket and 2 and 3 in another"
   ]
  },
  {
   "cell_type": "code",
   "execution_count": 177,
   "id": "14fe5359",
   "metadata": {},
   "outputs": [],
   "source": [
    "def nested_optimization_func_3(x):\n",
    "    a1, a2, a3, bf, bp, theta1, theta2 = x\n",
    "    rho1 = np.exp(theta1)/(np.exp(theta1)+1)\n",
    "    rho2 = np.exp(theta2)/(np.exp(theta2)+1)\n",
    "\n",
    "    v1 = np.exp((a1 + bf*yogurt_df['Feature 1'] + bp*yogurt_df['Price 1']) / rho1)\n",
    "    v4 = np.exp((bf*yogurt_df['Feature 4'] + bp*yogurt_df['Price 4']) / rho1)\n",
    "    \n",
    "    denom1 = v1 + v4\n",
    "    \n",
    "    v2 = np.exp((a2 + bf*yogurt_df['Feature 2'] + bp*yogurt_df['Price 2']) / rho2)\n",
    "    v3 = np.exp((a3 + bf*yogurt_df['Feature 3'] + bp*yogurt_df['Price 3']) / rho2)\n",
    "\n",
    "    denom2 = v2 + v3\n",
    "    \n",
    "    b_1 = np.power(denom1, rho1) / (np.power(denom1, rho1) + np.power(denom2, rho2))\n",
    "    b_2 = np.power(denom2, rho2) / (np.power(denom1, rho1) + np.power(denom2, rho2))\n",
    "    \n",
    "    P1 = (b_1 * v1) / denom1\n",
    "    P2 = (b_2 * v2) / denom2\n",
    "    P3 = (b_2 * v3) / denom2\n",
    "    P4 = (b_1 * v4) / denom1\n",
    "\n",
    "    loss = (P1 * yogurt_df['Brand 1'] + P2 * yogurt_df['Brand  2'] + P3 * yogurt_df['Brand 3'] + P4 * yogurt_df['Brand 4'])\n",
    "    log_loss = np.log(loss)\n",
    "    total_ll = np.sum(log_loss)\n",
    "    \n",
    "    return -total_ll"
   ]
  },
  {
   "cell_type": "code",
   "execution_count": 178,
   "id": "cc4a4e8f",
   "metadata": {},
   "outputs": [],
   "source": [
    "a1, a2, a3, bf, bp, theta1, theta2 = 1, 1, 1, 1, 1, 1, 1\n",
    "x_init = np.array([a1, a2, a3, bf, bp, theta1, theta2])\n",
    "output = opt.minimize(nested_optimization_func_3, x_init, options={'gtol': 0.001})"
   ]
  },
  {
   "cell_type": "code",
   "execution_count": 179,
   "id": "e86748fd",
   "metadata": {},
   "outputs": [
    {
     "data": {
      "text/plain": [
       "array([  1.27044099,   0.59673218,  -1.95510883,   0.44043305,\n",
       "       -33.75535913,   2.4011839 ,   0.24406051])"
      ]
     },
     "execution_count": 179,
     "metadata": {},
     "output_type": "execute_result"
    }
   ],
   "source": [
    "output.x"
   ]
  },
  {
   "cell_type": "code",
   "execution_count": 180,
   "id": "d4af85b7",
   "metadata": {},
   "outputs": [
    {
     "data": {
      "text/plain": [
       "      fun: 2652.8512628389035\n",
       " hess_inv: array([[ 1.49978725e-02,  1.15032233e-02, -1.01743537e-02,\n",
       "         4.37177623e-04, -3.15287834e-01,  1.55981145e-01,\n",
       "         1.85289114e-02],\n",
       "       [ 1.15032233e-02,  1.35288746e-02, -1.72015772e-03,\n",
       "         1.52345966e-03, -2.18927614e-01,  1.76599462e-01,\n",
       "         1.29207727e-02],\n",
       "       [-1.01743537e-02, -1.72015772e-03,  5.33462973e-02,\n",
       "        -5.33649450e-03,  3.44566764e-01, -6.71096363e-02,\n",
       "        -6.41702899e-02],\n",
       "       [ 4.37177623e-04,  1.52345966e-03, -5.33649450e-03,\n",
       "         1.09605334e-02, -2.10431155e-03,  2.82310930e-02,\n",
       "         8.34036163e-03],\n",
       "       [-3.15287834e-01, -2.18927614e-01,  3.44566764e-01,\n",
       "        -2.10431155e-03,  8.39158811e+00, -3.30539504e+00,\n",
       "        -4.57520901e-01],\n",
       "       [ 1.55981145e-01,  1.76599462e-01, -6.71096363e-02,\n",
       "         2.82310930e-02, -3.30539504e+00,  2.81841801e+00,\n",
       "         2.17049025e-01],\n",
       "       [ 1.85289114e-02,  1.29207727e-02, -6.41702899e-02,\n",
       "         8.34036163e-03, -4.57520901e-01,  2.17049025e-01,\n",
       "         1.01114591e-01]])\n",
       "      jac: array([ 3.05175781e-04,  1.52587891e-04, -2.44140625e-04, -6.10351562e-05,\n",
       "        0.00000000e+00,  0.00000000e+00, -2.13623047e-04])\n",
       "  message: 'Optimization terminated successfully.'\n",
       "     nfev: 280\n",
       "      nit: 26\n",
       "     njev: 35\n",
       "   status: 0\n",
       "  success: True\n",
       "        x: array([  1.27044099,   0.59673218,  -1.95510883,   0.44043305,\n",
       "       -33.75535913,   2.4011839 ,   0.24406051])"
      ]
     },
     "execution_count": 180,
     "metadata": {},
     "output_type": "execute_result"
    }
   ],
   "source": [
    "output"
   ]
  },
  {
   "cell_type": "code",
   "execution_count": 181,
   "id": "1a50c64d",
   "metadata": {},
   "outputs": [],
   "source": [
    "a1_mle = np.sqrt(output.hess_inv[0,0])\n",
    "a2_mle = np.sqrt(output.hess_inv[1,1])\n",
    "a3_mle = np.sqrt(output.hess_inv[2,2])\n",
    "bf_mle = np.sqrt(output.hess_inv[3,3])\n",
    "bp_mle = np.sqrt(output.hess_inv[4,4])\n",
    "theta1_mle = np.sqrt(output.hess_inv[5,5])\n",
    "theta2_mle = np.sqrt(output.hess_inv[6,6])"
   ]
  },
  {
   "cell_type": "code",
   "execution_count": 182,
   "id": "d59febea",
   "metadata": {},
   "outputs": [
    {
     "name": "stdout",
     "output_type": "stream",
     "text": [
      "a1_mle: 0.12246580148711435, a2_mle: 0.11631369069634433, a3_mle: 0.23096817384959414, bf_mle: 0.10469256624501018, bp_mle: 2.8968237974500473, theta1_mle: 1.6788144671087484, theta2_mle: 0.31798520533233976\n"
     ]
    }
   ],
   "source": [
    "print (f\"a1_mle: {a1_mle}, a2_mle: {a2_mle}, a3_mle: {a3_mle}, bf_mle: {bf_mle}, bp_mle: {bp_mle}, theta1_mle: {theta1_mle}, theta2_mle: {theta2_mle}\")"
   ]
  },
  {
   "cell_type": "code",
   "execution_count": 216,
   "id": "5e393abe",
   "metadata": {},
   "outputs": [],
   "source": [
    "rho1 = np.exp(2.4011839)/(np.exp(2.4011839)+1)\n",
    "rho2 = np.exp(0.24406051)/(np.exp(0.24406051)+1)"
   ]
  },
  {
   "cell_type": "code",
   "execution_count": 217,
   "id": "79189f33",
   "metadata": {},
   "outputs": [
    {
     "data": {
      "text/plain": [
       "0.9169175372601962"
      ]
     },
     "execution_count": 217,
     "metadata": {},
     "output_type": "execute_result"
    }
   ],
   "source": [
    "rho1"
   ]
  },
  {
   "cell_type": "code",
   "execution_count": 218,
   "id": "52f3a844",
   "metadata": {},
   "outputs": [
    {
     "data": {
      "text/plain": [
       "0.5607140541852621"
      ]
     },
     "execution_count": 218,
     "metadata": {},
     "output_type": "execute_result"
    }
   ],
   "source": [
    "rho2"
   ]
  },
  {
   "cell_type": "markdown",
   "id": "3f7baa87",
   "metadata": {},
   "source": [
    "### Case 3 is the only case where the model satisfies IIA"
   ]
  },
  {
   "cell_type": "markdown",
   "id": "743a5b11",
   "metadata": {},
   "source": [
    "# Logit model with observed heterogeneties"
   ]
  },
  {
   "cell_type": "markdown",
   "id": "a1b68743",
   "metadata": {},
   "source": [
    "### Including demographics in the model"
   ]
  },
  {
   "cell_type": "code",
   "execution_count": 223,
   "id": "d0e85619",
   "metadata": {},
   "outputs": [],
   "source": [
    "def demographic_model(x):\n",
    "\n",
    "    a11, a1i, a1h, a22, a2i, a2h, a33, a3i, a3h, bf, bp, bfi, bfh, bpi, bph = x\n",
    "    \n",
    "    a1 = a11 + a1i*yogurt_df[\"Income\"] + a1h*yogurt_df[\"HH Size\"]\n",
    "    a2 = a22 + a2i*yogurt_df[\"Income\"] + a2h*yogurt_df[\"HH Size\"]\n",
    "    a3 = a33 + a3i*yogurt_df[\"Income\"] + a3h*yogurt_df[\"HH Size\"]\n",
    "    \n",
    "    bfi = bf + bfi*yogurt_df[\"Income\"] + bfh*yogurt_df[\"HH Size\"]\n",
    "    bpi = bp + bpi*yogurt_df[\"Income\"] + bph*yogurt_df[\"HH Size\"]\n",
    "    \n",
    "    v1 = np.exp(a1 + bfi*yogurt_df['Feature 1'] + bpi*yogurt_df['Price 1'])\n",
    "    v2 = np.exp(a2 + bfi*yogurt_df['Feature 2'] + bpi*yogurt_df['Price 2'])\n",
    "    v3 = np.exp(a3 + bfi*yogurt_df['Feature 3'] + bpi*yogurt_df['Price 3'])\n",
    "    v4 = np.exp(bfi*yogurt_df['Feature 4'] + bpi*yogurt_df['Price 4'])\n",
    "    denom = v1 + v2 + v3 + v4\n",
    "    \n",
    "    loss = (v1*yogurt_df['Brand 1'] + v2*yogurt_df['Brand  2'] + v3*yogurt_df['Brand 3'] + v4*yogurt_df['Brand 4']) / denom\n",
    "    log_loss = np.log(loss)\n",
    "    total_ll = np.sum(log_loss)\n",
    "    \n",
    "    return -total_ll"
   ]
  },
  {
   "cell_type": "code",
   "execution_count": 227,
   "id": "5d1f47d8",
   "metadata": {},
   "outputs": [],
   "source": [
    "a11, a1i, a1h, a22, a2i, a2h, a33, a3i, a3h, bf, bp, bfi, bfh, bpi, bph = 1, 1, 1, 1, 1, 1, 1, 1, 1, 1, 1, 1, 1, 1, 1\n",
    "x_init = np.array([a11, a1i, a1h, a22, a2i, a2h, a33, a3i, a3h, bf, bp, bfi, bfh, bpi, bph])\n",
    "output = opt.minimize(demographic_model, x_init, options={'gtol': 0.001})"
   ]
  },
  {
   "cell_type": "code",
   "execution_count": 228,
   "id": "6c907c36",
   "metadata": {},
   "outputs": [
    {
     "data": {
      "text/plain": [
       "array([  0.51030182,  -0.09741916,   0.61664267,   1.19037372,\n",
       "        -0.11850083,   0.19636441,  -1.88498861,  -0.29285122,\n",
       "         0.37296132,   0.54224479, -40.11435211,  -0.08998898,\n",
       "         0.21904349,   1.22027358,  -2.45777992])"
      ]
     },
     "execution_count": 228,
     "metadata": {},
     "output_type": "execute_result"
    }
   ],
   "source": [
    "output.x"
   ]
  },
  {
   "cell_type": "code",
   "execution_count": 229,
   "id": "c4a0c4e5",
   "metadata": {},
   "outputs": [
    {
     "data": {
      "text/plain": [
       "      fun: 2537.4825261512897\n",
       " hess_inv: array([[ 3.38326055e-02, -1.53603480e-03, -5.27960572e-03,\n",
       "         2.09236468e-02, -1.18365211e-03, -2.71291287e-03,\n",
       "         2.39757443e-02, -1.65413493e-03, -3.28939620e-03,\n",
       "        -5.64305722e-04, -2.84240797e-02, -1.11126179e-04,\n",
       "        -4.39302068e-04, -7.32031575e-03,  2.39444907e-02],\n",
       "       [-1.53603480e-03,  3.09084377e-04, -3.81621958e-04,\n",
       "        -1.21550868e-03,  1.72101541e-04, -1.54698996e-04,\n",
       "        -1.88559250e-03,  1.12223584e-04,  2.13312565e-04,\n",
       "        -8.32521739e-04,  5.23825711e-03, -4.24256019e-05,\n",
       "         3.61704986e-04, -2.13231988e-03,  1.94448386e-03],\n",
       "       [-5.27960572e-03, -3.81621958e-04,  3.32297313e-03,\n",
       "        -2.31302075e-03, -2.37305250e-04,  1.79190636e-03,\n",
       "        -2.62623012e-03, -2.17498151e-05,  1.15124063e-03,\n",
       "         2.84331442e-03, -3.83618292e-03,  4.26055834e-05,\n",
       "        -8.72274690e-04,  3.58950471e-03, -1.46716054e-02],\n",
       "       [ 2.09236468e-02, -1.21550868e-03, -2.31302075e-03,\n",
       "         3.00781535e-02, -1.73649380e-03, -3.93654542e-03,\n",
       "         2.06666886e-02, -1.46267595e-03, -2.62959954e-03,\n",
       "        -1.44239126e-03, -4.58574161e-02, -9.41162809e-05,\n",
       "        -3.38118520e-06,  4.05645721e-04,  6.68079155e-03],\n",
       "       [-1.18365211e-03,  1.72101541e-04, -2.37305250e-04,\n",
       "        -1.73649380e-03,  2.60326179e-04, -2.84609908e-04,\n",
       "        -1.25697550e-03,  2.12980731e-04, -2.26601113e-04,\n",
       "        -1.41936331e-04,  2.84898218e-03,  2.23425073e-05,\n",
       "         4.42684329e-05,  3.03893461e-04, -6.51971869e-04],\n",
       "       [-2.71291287e-03, -1.54698996e-04,  1.79190636e-03,\n",
       "        -3.93654542e-03, -2.84609908e-04,  2.57743494e-03,\n",
       "        -2.76187501e-03, -2.58434132e-04,  1.97126357e-03,\n",
       "         5.14100624e-04,  6.01641422e-03, -4.03020637e-05,\n",
       "        -1.33425767e-05, -2.40423046e-03,  8.07373986e-04],\n",
       "       [ 2.39757443e-02, -1.88559250e-03, -2.62623012e-03,\n",
       "         2.06666886e-02, -1.25697550e-03, -2.76187501e-03,\n",
       "         8.37638718e-02, -3.86841676e-03, -1.74758232e-02,\n",
       "        -5.69006042e-03, -1.47975465e-01,  1.11833517e-05,\n",
       "         1.60219502e-03,  2.50841837e-02,  1.25578350e-02],\n",
       "       [-1.65413493e-03,  1.12223584e-04, -2.17498151e-05,\n",
       "        -1.46267595e-03,  2.12980731e-04, -2.58434132e-04,\n",
       "        -3.86841676e-03,  1.64862756e-03, -2.30583062e-03,\n",
       "         8.34837275e-04,  1.42170654e-03, -1.00461225e-04,\n",
       "         1.41966612e-04,  3.76783262e-03, -7.49598717e-03],\n",
       "       [-3.28939620e-03,  2.13312565e-04,  1.15124063e-03,\n",
       "        -2.62959954e-03, -2.26601113e-04,  1.97126357e-03,\n",
       "        -1.74758232e-02, -2.30583062e-03,  1.26058025e-02,\n",
       "        -1.70385082e-03,  4.76222987e-02,  4.83979472e-04,\n",
       "        -1.07039848e-03, -1.74896442e-02,  2.26924045e-02],\n",
       "       [-5.64305722e-04, -8.32521739e-04,  2.84331442e-03,\n",
       "        -1.44239126e-03, -1.41936331e-04,  5.14100624e-04,\n",
       "        -5.69006042e-03,  8.34837275e-04, -1.70385082e-03,\n",
       "         1.05970258e-01, -9.46063756e-02, -3.31608308e-03,\n",
       "        -2.14874266e-02,  2.92549407e-02, -8.14126216e-02],\n",
       "       [-2.84240797e-02,  5.23825711e-03, -3.83618292e-03,\n",
       "        -4.58574161e-02,  2.84898218e-03,  6.01641422e-03,\n",
       "        -1.47975465e-01,  1.42170654e-03,  4.76222987e-02,\n",
       "        -9.46063756e-02,  5.73686398e-01,  4.77005415e-03,\n",
       "         1.45977621e-02, -1.56855309e-01,  1.63149557e-01],\n",
       "       [-1.11126179e-04, -4.24256019e-05,  4.26055834e-05,\n",
       "        -9.41162809e-05,  2.23425073e-05, -4.03020637e-05,\n",
       "         1.11833517e-05, -1.00461225e-04,  4.83979472e-04,\n",
       "        -3.31608308e-03,  4.77005415e-03,  1.14788662e-03,\n",
       "        -1.95668045e-03,  1.00638508e-03,  5.13448132e-04],\n",
       "       [-4.39302068e-04,  3.61704986e-04, -8.72274690e-04,\n",
       "        -3.38118520e-06,  4.42684329e-05, -1.33425767e-05,\n",
       "         1.60219502e-03,  1.41966612e-04, -1.07039848e-03,\n",
       "        -2.14874266e-02,  1.45977621e-02, -1.95668045e-03,\n",
       "         1.23438988e-02, -9.28761427e-03,  2.28955120e-02],\n",
       "       [-7.32031575e-03, -2.13231988e-03,  3.58950471e-03,\n",
       "         4.05645721e-04,  3.03893461e-04, -2.40423046e-03,\n",
       "         2.50841837e-02,  3.76783262e-03, -1.74896442e-02,\n",
       "         2.92549407e-02, -1.56855309e-01,  1.00638508e-03,\n",
       "        -9.28761427e-03,  1.11392365e-01, -1.41092781e-01],\n",
       "       [ 2.39444907e-02,  1.94448386e-03, -1.46716054e-02,\n",
       "         6.68079155e-03, -6.51971869e-04,  8.07373986e-04,\n",
       "         1.25578350e-02, -7.49598717e-03,  2.26924045e-02,\n",
       "        -8.14126216e-02,  1.63149557e-01,  5.13448132e-04,\n",
       "         2.28955120e-02, -1.41092781e-01,  4.67204554e-01]])\n",
       "      jac: array([ 0.00000000e+00,  2.13623047e-04,  9.15527344e-05,  9.15527344e-05,\n",
       "        3.05175781e-04,  1.52587891e-04,  6.10351562e-05,  0.00000000e+00,\n",
       "       -6.10351562e-05,  0.00000000e+00,  3.05175781e-05, -9.15527344e-05,\n",
       "       -3.05175781e-05,  0.00000000e+00,  6.10351562e-05])\n",
       "  message: 'Optimization terminated successfully.'\n",
       "     nfev: 768\n",
       "      nit: 37\n",
       "     njev: 48\n",
       "   status: 0\n",
       "  success: True\n",
       "        x: array([  0.51030182,  -0.09741916,   0.61664267,   1.19037372,\n",
       "        -0.11850083,   0.19636441,  -1.88498861,  -0.29285122,\n",
       "         0.37296132,   0.54224479, -40.11435211,  -0.08998898,\n",
       "         0.21904349,   1.22027358,  -2.45777992])"
      ]
     },
     "execution_count": 229,
     "metadata": {},
     "output_type": "execute_result"
    }
   ],
   "source": [
    "output"
   ]
  },
  {
   "cell_type": "markdown",
   "id": "d80ddcb5",
   "metadata": {},
   "source": [
    "### Splitting the sample into 4 groups based on median levels of income and household size"
   ]
  },
  {
   "cell_type": "code",
   "execution_count": 231,
   "id": "7dc73b21",
   "metadata": {},
   "outputs": [
    {
     "data": {
      "text/html": [
       "<div>\n",
       "<style scoped>\n",
       "    .dataframe tbody tr th:only-of-type {\n",
       "        vertical-align: middle;\n",
       "    }\n",
       "\n",
       "    .dataframe tbody tr th {\n",
       "        vertical-align: top;\n",
       "    }\n",
       "\n",
       "    .dataframe thead th {\n",
       "        text-align: right;\n",
       "    }\n",
       "</style>\n",
       "<table border=\"1\" class=\"dataframe\">\n",
       "  <thead>\n",
       "    <tr style=\"text-align: right;\">\n",
       "      <th></th>\n",
       "      <th>Income</th>\n",
       "      <th>HH Size</th>\n",
       "    </tr>\n",
       "  </thead>\n",
       "  <tbody>\n",
       "    <tr>\n",
       "      <th>count</th>\n",
       "      <td>2430.000000</td>\n",
       "      <td>2430.000000</td>\n",
       "    </tr>\n",
       "    <tr>\n",
       "      <th>mean</th>\n",
       "      <td>8.720988</td>\n",
       "      <td>2.802058</td>\n",
       "    </tr>\n",
       "    <tr>\n",
       "      <th>std</th>\n",
       "      <td>3.800654</td>\n",
       "      <td>1.173291</td>\n",
       "    </tr>\n",
       "    <tr>\n",
       "      <th>min</th>\n",
       "      <td>1.000000</td>\n",
       "      <td>1.000000</td>\n",
       "    </tr>\n",
       "    <tr>\n",
       "      <th>25%</th>\n",
       "      <td>6.000000</td>\n",
       "      <td>2.000000</td>\n",
       "    </tr>\n",
       "    <tr>\n",
       "      <th>50%</th>\n",
       "      <td>9.000000</td>\n",
       "      <td>3.000000</td>\n",
       "    </tr>\n",
       "    <tr>\n",
       "      <th>75%</th>\n",
       "      <td>12.000000</td>\n",
       "      <td>4.000000</td>\n",
       "    </tr>\n",
       "    <tr>\n",
       "      <th>max</th>\n",
       "      <td>14.000000</td>\n",
       "      <td>6.000000</td>\n",
       "    </tr>\n",
       "  </tbody>\n",
       "</table>\n",
       "</div>"
      ],
      "text/plain": [
       "            Income      HH Size\n",
       "count  2430.000000  2430.000000\n",
       "mean      8.720988     2.802058\n",
       "std       3.800654     1.173291\n",
       "min       1.000000     1.000000\n",
       "25%       6.000000     2.000000\n",
       "50%       9.000000     3.000000\n",
       "75%      12.000000     4.000000\n",
       "max      14.000000     6.000000"
      ]
     },
     "execution_count": 231,
     "metadata": {},
     "output_type": "execute_result"
    }
   ],
   "source": [
    "yogurt_df[['Income','HH Size']].describe()"
   ]
  },
  {
   "cell_type": "code",
   "execution_count": 233,
   "id": "2e1d31e7",
   "metadata": {},
   "outputs": [],
   "source": [
    "grp_1 = yogurt_df[(yogurt_df['Income'] < 9) & (yogurt_df['HH Size'] < 3)]\n",
    "grp_2 = yogurt_df[(yogurt_df['Income'] >= 9) & (yogurt_df['HH Size'] < 3)]\n",
    "grp_3 = yogurt_df[(yogurt_df['Income'] < 9) & (yogurt_df['HH Size'] >= 3)]\n",
    "grp_4 = yogurt_df[(yogurt_df['Income'] >= 9) & (yogurt_df['HH Size'] >= 3)]"
   ]
  },
  {
   "cell_type": "code",
   "execution_count": 235,
   "id": "df3e1f59",
   "metadata": {},
   "outputs": [],
   "source": [
    "def optimization_func_for_grp(x, grp):\n",
    "    a1, a2, a3, bf, bp = x\n",
    "    v1 = np.exp(a1 + bf*grp['Feature 1'] + bp*grp['Price 1'])\n",
    "    v2 = np.exp(a2 + bf*grp['Feature 2'] + bp*grp['Price 2'])\n",
    "    v3 = np.exp(a3 + bf*grp['Feature 3'] + bp*grp['Price 3'])\n",
    "    v4 = np.exp(bf*grp['Feature 4'] + bp*grp['Price 4'])\n",
    "    denom = v1 + v2 + v3 + v4\n",
    "    loss = (v1*grp['Brand 1'] + v2*grp['Brand  2'] + v3*grp['Brand 3'] + v4*grp['Brand 4'])/denom\n",
    "    log_loss = np.log(loss)\n",
    "    total_ll = np.sum(log_loss)\n",
    "    \n",
    "    return -total_ll"
   ]
  },
  {
   "cell_type": "code",
   "execution_count": 238,
   "id": "bf755922",
   "metadata": {},
   "outputs": [],
   "source": [
    "def BIC(grp):\n",
    "    x_init = np.array([1, 1, 1, 1, 1])\n",
    "    results = opt.minimize(optimization_func_for_grp, x_init, grp)\n",
    "    n = grp.shape[0]\n",
    "    return np.log(n)*(5)-2*(-results.fun)"
   ]
  },
  {
   "cell_type": "code",
   "execution_count": 239,
   "id": "7d05ff17",
   "metadata": {},
   "outputs": [
    {
     "data": {
      "text/plain": [
       "1332.6696512452625"
      ]
     },
     "execution_count": 239,
     "metadata": {},
     "output_type": "execute_result"
    }
   ],
   "source": [
    "BIC(grp_1)"
   ]
  },
  {
   "cell_type": "code",
   "execution_count": 240,
   "id": "bda20e42",
   "metadata": {},
   "outputs": [
    {
     "data": {
      "text/plain": [
       "1251.3502018350791"
      ]
     },
     "execution_count": 240,
     "metadata": {},
     "output_type": "execute_result"
    }
   ],
   "source": [
    "BIC(grp_2)"
   ]
  },
  {
   "cell_type": "code",
   "execution_count": 241,
   "id": "052dad3f",
   "metadata": {},
   "outputs": [
    {
     "data": {
      "text/plain": [
       "990.8763263037957"
      ]
     },
     "execution_count": 241,
     "metadata": {},
     "output_type": "execute_result"
    }
   ],
   "source": [
    "BIC(grp_3)"
   ]
  },
  {
   "cell_type": "code",
   "execution_count": 242,
   "id": "f76f62ca",
   "metadata": {},
   "outputs": [
    {
     "data": {
      "text/plain": [
       "1643.0863769764928"
      ]
     },
     "execution_count": 242,
     "metadata": {},
     "output_type": "execute_result"
    }
   ],
   "source": [
    "BIC(grp_4)"
   ]
  },
  {
   "cell_type": "markdown",
   "id": "ecd220a6",
   "metadata": {},
   "source": [
    "BIC varies pretty widely with change in parameters. Especiallt for group 4"
   ]
  },
  {
   "cell_type": "code",
   "execution_count": null,
   "id": "0dcfd76c",
   "metadata": {},
   "outputs": [],
   "source": []
  }
 ],
 "metadata": {
  "kernelspec": {
   "display_name": "Python 3 (ipykernel)",
   "language": "python",
   "name": "python3"
  },
  "language_info": {
   "codemirror_mode": {
    "name": "ipython",
    "version": 3
   },
   "file_extension": ".py",
   "mimetype": "text/x-python",
   "name": "python",
   "nbconvert_exporter": "python",
   "pygments_lexer": "ipython3",
   "version": "3.9.13"
  }
 },
 "nbformat": 4,
 "nbformat_minor": 5
}
